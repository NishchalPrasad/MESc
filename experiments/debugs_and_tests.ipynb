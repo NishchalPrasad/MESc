{
 "cells": [
  {
   "cell_type": "code",
   "execution_count": 1,
   "id": "b6f4c9b2-837a-4413-ba0c-8f38d529e5f3",
   "metadata": {},
   "outputs": [],
   "source": [
    "import numpy as np\n",
    "import torch\n",
    "for_ipynb_run = \"/gpfsdswork/projects/rech/btm/uei84ht/\""
   ]
  },
  {
   "cell_type": "code",
   "execution_count": null,
   "id": "c7a4b755-eaee-466d-bf78-48c819ea0d30",
   "metadata": {},
   "outputs": [],
   "source": []
  },
  {
   "cell_type": "code",
   "execution_count": 61,
   "id": "f9557200-ee5c-4625-b2aa-1416367f4d35",
   "metadata": {},
   "outputs": [
    {
     "name": "stdout",
     "output_type": "stream",
     "text": [
      "654\n"
     ]
    }
   ],
   "source": [
    "data_path = for_ipynb_run+'LEGAL-P_E/SIGIR_experiments/finetuned_models/scotus/Extracted_data/from_2048input_ft_model/2048_input_len_100_overlap/J6b/'\n",
    "train_labels = np.load(data_path+'validation_indexes_.npy',allow_pickle=True)\n",
    "count = 0\n",
    "for i in range(len(train_labels)):\n",
    "    if train_labels[i] > 5:\n",
    "        count+=1\n",
    "print(count)"
   ]
  },
  {
   "cell_type": "code",
   "execution_count": 58,
   "id": "adf96ac4-24b8-494c-9f6c-3929a8d1bcec",
   "metadata": {},
   "outputs": [
    {
     "data": {
      "text/plain": [
       "array([4, 1, 5, ..., 1, 7, 5], dtype=object)"
      ]
     },
     "execution_count": 58,
     "metadata": {},
     "output_type": "execute_result"
    }
   ],
   "source": [
    "train_labels"
   ]
  },
  {
   "cell_type": "code",
   "execution_count": 47,
   "id": "a377df00-7f38-4ee3-b8c7-9b9dd3c214a6",
   "metadata": {
    "tags": []
   },
   "outputs": [
    {
     "name": "stdout",
     "output_type": "stream",
     "text": [
      "654\n"
     ]
    }
   ],
   "source": [
    "count = 0\n",
    "for i in range(len(train_labels)):\n",
    "    if train_labels[i] > 10:\n",
    "        count+=1\n",
    "print(count)"
   ]
  },
  {
   "cell_type": "code",
   "execution_count": 59,
   "id": "bf92338b-fc4b-40e5-8164-70c67e19e6c4",
   "metadata": {},
   "outputs": [
    {
     "name": "stdout",
     "output_type": "stream",
     "text": [
      "809\n"
     ]
    }
   ],
   "source": [
    "data_path = for_ipynb_run+'LEGAL-P_E/SIGIR_experiments/finetuned_models/scotus/EleutherAI_gpt-j-6B/Strategy_0/Training_data/chunks_with_100_overlap_and_2048_input-length_zero_pad/'\n",
    "train_labels = np.load(data_path+'validation_indexes_.npy',allow_pickle=True)\n",
    "count = 0\n",
    "for i in range(len(train_labels)):\n",
    "    if train_labels[i] > 10:\n",
    "        count+=1\n",
    "print(count)"
   ]
  },
  {
   "cell_type": "code",
   "execution_count": 60,
   "id": "363395ff-267a-4e7a-9aa3-d065e3342dd2",
   "metadata": {},
   "outputs": [
    {
     "data": {
      "text/plain": [
       "array([5, 2, 6, ..., 2, 8, 6])"
      ]
     },
     "execution_count": 60,
     "metadata": {},
     "output_type": "execute_result"
    }
   ],
   "source": [
    "train_labels"
   ]
  },
  {
   "cell_type": "code",
   "execution_count": 26,
   "id": "765e8bef-e550-4115-8b89-7d74535118f1",
   "metadata": {},
   "outputs": [],
   "source": [
    "import os\n",
    "data_path = for_ipynb_run+'LEGAL-P_E/SIGIR_experiments/finetuned_models/scotus/Extracted_data/from_2048input_ft_model/2048_input_len_100_overlap/J6b/'\n",
    "split_name_ = 'train'\n",
    "number_of_chunks = 15\n",
    "indexes = np.load(data_path+f'{split_name_}_indexes_.npy',allow_pickle=True)\n",
    "embeddings = np.load(data_path+f'{split_name_}_.npy',allow_pickle=True)\n",
    "labels = np.load(data_path+f'{split_name_}_labels_.npy',allow_pickle=True)\n",
    "split_path_name = data_path + f\"{number_of_chunks}_chunk_or_more\" + '/'\n",
    "if os.path.isdir(split_path_name)==False:\n",
    "        os.makedirs(split_path_name)"
   ]
  },
  {
   "cell_type": "code",
   "execution_count": 27,
   "id": "0eb9764c-3ec6-40b5-bd21-cfd5d01c1539",
   "metadata": {},
   "outputs": [
    {
     "name": "stdout",
     "output_type": "stream",
     "text": [
      "119\n"
     ]
    }
   ],
   "source": [
    "#Extracting embeddings of only large documents(>2 chunks) from extracted embeddings for all documents\n",
    "indexes_ , embeddings_, labels_ = [],[],[]\n",
    "for i, (index, embeds, label) in enumerate(zip(indexes, embeddings, labels)):\n",
    "    if index >= number_of_chunks:\n",
    "        indexes_.append(index)\n",
    "        embeddings_.append(embeds)\n",
    "        labels_.append(label)\n",
    "indexes_ = np.asarray(indexes_, dtype=object)\n",
    "embeddings_ = np.asarray(embeddings_, dtype=object)\n",
    "labels_ = np.asarray(labels_, dtype=object)\n",
    "print(len(embeddings_))"
   ]
  },
  {
   "cell_type": "code",
   "execution_count": 69,
   "id": "8eee2910-935f-4980-b2a5-4d7c37862fba",
   "metadata": {},
   "outputs": [
    {
     "data": {
      "text/plain": [
       "(10, 4, 768)"
      ]
     },
     "execution_count": 69,
     "metadata": {},
     "output_type": "execute_result"
    }
   ],
   "source": [
    "data_path = for_ipynb_run+'LEGAL-P_E/SIGIR_experiments/finetuned_models/ildc/Extracted_data/from_512input_ft_model/InLegalBERT/'\n",
    "data = np.load(data_path+'test.npy',allow_pickle=True)\n",
    "data[2].shape"
   ]
  },
  {
   "cell_type": "code",
   "execution_count": 67,
   "id": "062eab31-9296-4c38-ae10-b12ab0c2222c",
   "metadata": {},
   "outputs": [
    {
     "data": {
      "text/plain": [
       "2"
      ]
     },
     "execution_count": 67,
     "metadata": {},
     "output_type": "execute_result"
    }
   ],
   "source": [
    "data[1].shape[0]"
   ]
  },
  {
   "cell_type": "code",
   "execution_count": null,
   "id": "bf36ed4d-f2b9-4d25-9fb1-fea6bef99dcf",
   "metadata": {},
   "outputs": [],
   "source": [
    "2596(>2), 2410 (<= 2)"
   ]
  },
  {
   "cell_type": "code",
   "execution_count": 33,
   "id": "aa1ca718-2afd-4224-9d1e-a821af2e230a",
   "metadata": {},
   "outputs": [
    {
     "data": {
      "text/plain": [
       "512"
      ]
     },
     "execution_count": 33,
     "metadata": {},
     "output_type": "execute_result"
    }
   ],
   "source": [
    "len(train_labels[28])"
   ]
  },
  {
   "cell_type": "code",
   "execution_count": 51,
   "id": "db17b4a3-0ac5-475e-9359-106d85591212",
   "metadata": {},
   "outputs": [],
   "source": [
    "logits = torch.tensor([[0.0237, 0.0298, 0.1455, 0.0221, 0.0903, 0.1348, 0.0747, 0.0791, 0.1167,\n",
    "         0.0503, 0.0569, 0.0625, 0.1133],\n",
    "        [0.1187, 0.0403, 0.0383, 0.0786, 0.0505, 0.1040, 0.1045, 0.0281, 0.1206,\n",
    "         0.0547, 0.1562, 0.0309, 0.0747],\n",
    "        [0.1523, 0.0410, 0.1162, 0.0598, 0.0947, 0.0442, 0.0649, 0.0157, 0.1006,\n",
    "         0.0835, 0.1167, 0.0579, 0.0522],\n",
    "        [0.0396, 0.0309, 0.1533, 0.0718, 0.0679, 0.0304, 0.1270, 0.1108, 0.0771,\n",
    "         0.1455, 0.0195, 0.0718, 0.0535],\n",
    "        [0.1211, 0.0410, 0.1045, 0.1943, 0.0718, 0.0220, 0.0679, 0.0835, 0.1016,\n",
    "         0.0110, 0.1025, 0.0177, 0.0608],\n",
    "        [0.0435, 0.0444, 0.0311, 0.0200, 0.0208, 0.0074, 0.0312, 0.0117, 0.3145,\n",
    "         0.0520, 0.3145, 0.0845, 0.0228]])"
   ]
  },
  {
   "cell_type": "code",
   "execution_count": 52,
   "id": "6b7b6999-a09e-45f4-a781-5a83fb16c3bc",
   "metadata": {},
   "outputs": [],
   "source": [
    "logits = np.asarray(logits)"
   ]
  },
  {
   "cell_type": "code",
   "execution_count": 6,
   "id": "87e0390c-506a-4e47-86f9-be3ffd8cd64e",
   "metadata": {},
   "outputs": [
    {
     "ename": "TypeError",
     "evalue": "len() of unsized object",
     "output_type": "error",
     "traceback": [
      "\u001b[0;31m---------------------------------------------------------------------------\u001b[0m",
      "\u001b[0;31mTypeError\u001b[0m                                 Traceback (most recent call last)",
      "Cell \u001b[0;32mIn[6], line 1\u001b[0m\n\u001b[0;32m----> 1\u001b[0m o\u001b[38;5;241m=\u001b[39m\u001b[38;5;28;43mlen\u001b[39;49m\u001b[43m(\u001b[49m\u001b[43mnp\u001b[49m\u001b[38;5;241;43m.\u001b[39;49m\u001b[43masarray\u001b[49m\u001b[43m(\u001b[49m\u001b[38;5;241;43m1\u001b[39;49m\u001b[43m,\u001b[49m\u001b[43m \u001b[49m\u001b[43mdtype\u001b[49m\u001b[38;5;241;43m=\u001b[39;49m\u001b[43mnp\u001b[49m\u001b[38;5;241;43m.\u001b[39;49m\u001b[43mfloat32\u001b[49m\u001b[43m)\u001b[49m\u001b[43m)\u001b[49m\n\u001b[1;32m      2\u001b[0m o\n",
      "\u001b[0;31mTypeError\u001b[0m: len() of unsized object"
     ]
    }
   ],
   "source": [
    "o=len(np.asarray(1, dtype=np.float32))\n",
    "o"
   ]
  },
  {
   "cell_type": "code",
   "execution_count": 20,
   "id": "8e3f0508-9bf3-4792-9337-4f37974dae5c",
   "metadata": {},
   "outputs": [],
   "source": [
    "l = np.unravel_index(np.argmax(logits, axis=1), logits.shape)\n",
    "am = np.argmax(logits, axis=1)"
   ]
  },
  {
   "cell_type": "code",
   "execution_count": 44,
   "id": "e1e4503f-024a-4496-b867-9f4fd72ddebf",
   "metadata": {},
   "outputs": [
    {
     "data": {
      "text/plain": [
       "[(2,\n",
       "  array([0.0237, 0.0298, 0.1455, 0.0221, 0.0903, 0.1348, 0.0747, 0.0791,\n",
       "         0.1167, 0.0503, 0.0569, 0.0625, 0.1133], dtype=float32)),\n",
       " (10,\n",
       "  array([0.1187, 0.0403, 0.0383, 0.0786, 0.0505, 0.104 , 0.1045, 0.0281,\n",
       "         0.1206, 0.0547, 0.1562, 0.0309, 0.0747], dtype=float32)),\n",
       " (0,\n",
       "  array([0.1523, 0.041 , 0.1162, 0.0598, 0.0947, 0.0442, 0.0649, 0.0157,\n",
       "         0.1006, 0.0835, 0.1167, 0.0579, 0.0522], dtype=float32)),\n",
       " (2,\n",
       "  array([0.0396, 0.0309, 0.1533, 0.0718, 0.0679, 0.0304, 0.127 , 0.1108,\n",
       "         0.0771, 0.1455, 0.0195, 0.0718, 0.0535], dtype=float32)),\n",
       " (3,\n",
       "  array([0.1211, 0.041 , 0.1045, 0.1943, 0.0718, 0.022 , 0.0679, 0.0835,\n",
       "         0.1016, 0.011 , 0.1025, 0.0177, 0.0608], dtype=float32)),\n",
       " (8,\n",
       "  array([0.0435, 0.0444, 0.0311, 0.02  , 0.0208, 0.0074, 0.0312, 0.0117,\n",
       "         0.3145, 0.052 , 0.3145, 0.0845, 0.0228], dtype=float32))]"
      ]
     },
     "execution_count": 44,
     "metadata": {},
     "output_type": "execute_result"
    }
   ],
   "source": [
    "e = zip(am,logits)\n",
    "list(e)"
   ]
  },
  {
   "cell_type": "code",
   "execution_count": 41,
   "id": "c7964c98-2bd4-47d3-8520-b5b85668b45e",
   "metadata": {},
   "outputs": [
    {
     "name": "stdout",
     "output_type": "stream",
     "text": [
      "[0. 0. 1. 0. 0. 0. 0. 0. 0. 0. 0. 0. 0.]\n",
      "[0. 0. 0. 0. 0. 0. 0. 0. 0. 0. 1. 0. 0.]\n",
      "[1. 0. 0. 0. 0. 0. 0. 0. 0. 0. 0. 0. 0.]\n",
      "[0. 0. 1. 0. 0. 0. 0. 0. 0. 0. 0. 0. 0.]\n",
      "[0. 0. 0. 1. 0. 0. 0. 0. 0. 0. 0. 0. 0.]\n",
      "[0. 0. 0. 0. 0. 0. 0. 0. 1. 0. 0. 0. 0.]\n"
     ]
    }
   ],
   "source": [
    "\n",
    "for pred in logits:\n",
    "    for am, t in zip()\n",
    "    \n",
    "for t, am_zip in zip(np.asarray(logits),zip(am,np.asarray(logits))):\n",
    "    t = np.zeros_like(t)\n",
    "    t[list(am_zip)[0]] = 1\n",
    "    \n"
   ]
  },
  {
   "cell_type": "code",
   "execution_count": null,
   "id": "68902c46-c161-45cb-b2e5-f89732265bf6",
   "metadata": {},
   "outputs": [],
   "source": []
  },
  {
   "cell_type": "code",
   "execution_count": 53,
   "id": "e9836990-7499-4b9d-bdf7-d13256a09c39",
   "metadata": {},
   "outputs": [
    {
     "name": "stdout",
     "output_type": "stream",
     "text": [
      "[ 2 10  0  2  3  8]\n",
      "[[0. 0. 1. 0. 0. 0. 0. 0. 0. 0. 0. 0. 0.]\n",
      " [0. 0. 0. 0. 0. 0. 0. 0. 0. 0. 1. 0. 0.]\n",
      " [1. 0. 0. 0. 0. 0. 0. 0. 0. 0. 0. 0. 0.]\n",
      " [0. 0. 1. 0. 0. 0. 0. 0. 0. 0. 0. 0. 0.]\n",
      " [0. 0. 0. 1. 0. 0. 0. 0. 0. 0. 0. 0. 0.]\n",
      " [0. 0. 0. 0. 0. 0. 0. 0. 1. 0. 0. 0. 0.]]\n"
     ]
    }
   ],
   "source": [
    "def convert_to_binarised_pred(logits):\n",
    "    binarised = np.zeros_like(logits)\n",
    "    am = np.argmax(logits, axis=-1)\n",
    "    print(am)\n",
    "    for i, (am_, logit) in enumerate(zip(am, logits)):\n",
    "        binarised[i][am_] = 1\n",
    "    return binarised\n",
    "logits = convert_to_binarised_pred(logits)\n",
    "print(logits)"
   ]
  },
  {
   "cell_type": "code",
   "execution_count": 40,
   "id": "5d2bf0c0-53d3-4a25-a91d-23dd5cee7283",
   "metadata": {},
   "outputs": [
    {
     "data": {
      "text/plain": [
       "tensor([[0.0237, 0.0298, 0.1455, 0.0221, 0.0903, 0.1348, 0.0747, 0.0791, 0.1167,\n",
       "         0.0503, 0.0569, 0.0625, 0.1133],\n",
       "        [0.1187, 0.0403, 0.0383, 0.0786, 0.0505, 0.1040, 0.1045, 0.0281, 0.1206,\n",
       "         0.0547, 0.1562, 0.0309, 0.0747],\n",
       "        [0.1523, 0.0410, 0.1162, 0.0598, 0.0947, 0.0442, 0.0649, 0.0157, 0.1006,\n",
       "         0.0835, 0.1167, 0.0579, 0.0522],\n",
       "        [0.0396, 0.0309, 0.1533, 0.0718, 0.0679, 0.0304, 0.1270, 0.1108, 0.0771,\n",
       "         0.1455, 0.0195, 0.0718, 0.0535],\n",
       "        [0.1211, 0.0410, 0.1045, 0.1943, 0.0718, 0.0220, 0.0679, 0.0835, 0.1016,\n",
       "         0.0110, 0.1025, 0.0177, 0.0608],\n",
       "        [0.0435, 0.0444, 0.0311, 0.0200, 0.0208, 0.0074, 0.0312, 0.0117, 0.3145,\n",
       "         0.0520, 0.3145, 0.0845, 0.0228]])"
      ]
     },
     "execution_count": 40,
     "metadata": {},
     "output_type": "execute_result"
    }
   ],
   "source": [
    "logits"
   ]
  },
  {
   "cell_type": "code",
   "execution_count": 31,
   "id": "be0eb1f9-d7e9-4fef-8584-476f555982ff",
   "metadata": {},
   "outputs": [
    {
     "name": "stdout",
     "output_type": "stream",
     "text": [
      "Letter: a\n",
      "Number: 0\n",
      "Letter: b\n",
      "Number: 1\n",
      "Letter: c\n",
      "Number: 2\n"
     ]
    }
   ],
   "source": [
    "letters = ['a', 'b', 'c']\n",
    "numbers = [0, 1, 2]\n",
    "for l, n in zip(letters, numbers):\n",
    "    print(f'Letter: {l}')\n",
    "    print(f'Number: {n}')"
   ]
  },
  {
   "cell_type": "code",
   "execution_count": null,
   "id": "e56b7385-676c-4c7a-936c-95a937390249",
   "metadata": {},
   "outputs": [],
   "source": []
  },
  {
   "cell_type": "code",
   "execution_count": 15,
   "id": "ac6c006f-b01a-4e1d-b066-bc7a70c73a06",
   "metadata": {},
   "outputs": [
    {
     "data": {
      "text/plain": [
       "(48595, 10)"
      ]
     },
     "execution_count": 15,
     "metadata": {},
     "output_type": "execute_result"
    }
   ],
   "source": [
    "train_labels.shape"
   ]
  },
  {
   "cell_type": "code",
   "execution_count": null,
   "id": "84ae2740-a139-45fd-a537-9a1a56a985bc",
   "metadata": {},
   "outputs": [],
   "source": [
    "LEGAL-P_E/SIGIR_experiments/finetuned_models/ecthr_a/EleutherAI_gpt-j-6B/Strategy_0/sub_strategy_0/Training_data_EleutherAI_gpt-j-6B/chunks_with_100_overlap/train_labels_.npy"
   ]
  },
  {
   "cell_type": "code",
   "execution_count": null,
   "id": "de288688-650e-40eb-a37c-86c977bc35a2",
   "metadata": {},
   "outputs": [],
   "source": []
  },
  {
   "cell_type": "code",
   "execution_count": 1,
   "id": "41050d5e-bcfc-455a-9a98-6d3fcc5af77e",
   "metadata": {},
   "outputs": [],
   "source": [
    "import datasets\n",
    "import os\n",
    "hggfc_model_name = 'EleutherAI/gpt-j-6B'\n",
    "model_path = \"/gpfsdswork/dataset/HuggingFace_Models/\"+hggfc_model_name#\"nlpaueb/legal-bert-base-uncased\"#\"QuentinKemperino/ECHR_test_2\"#\"QuentinKemperino/ECHR_test_Merged\" #path to the model to finetune\n",
    "dataset_subset = \"scotus\"\n",
    "\n",
    "#Choose strategy\n",
    "data_strategy = 0\n",
    "strat = data_strategy\n",
    "data_sub_strategy = 0\n",
    "#\"if oversample or not after combining 'multi' and 'single' dataset\"\n",
    "hggfc_model_name=hggfc_model_name.replace(\"/\",\"_\")\n",
    "path_train_dat = f\"/gpfsdswork/projects/rech/btm/uei84ht/LEGAL-P_E/SIGIR_experiments/finetuned_models/{dataset_subset}/{hggfc_model_name}/Strategy_{strat}/sub_strategy_{data_sub_strategy}/Training_data_{hggfc_model_name}/chunks_with_100_overlap/\"\n",
    "SAVE_DIR = f\"/gpfsdswork/projects/rech/btm/uei84ht/LEGAL-P_E/SIGIR_experiments/finetuned_models/{dataset_subset}/{hggfc_model_name}/Strategy_{strat}/sub_strategy_{data_sub_strategy}/\"\n",
    "\n",
    "#--------------------------------------------------------------------------------------------------------------------------------------------------------------------------------\n",
    "#accelerator = Accelerator(project_dir=SAVE_DIR)       \n",
    "#--------------------------------------------------------------------------------------------------------------------------------------------------------------------------------\n",
    "#if os.path.isdir(path_train_dat)==False:\n",
    "#    os.makedirs(path_train_dat)\n",
    "#if os.path.isdir(SAVE_DIR)==False:\n",
    "#    os.makedirs(SAVE_DIR)\n",
    "\n",
    "#load dataset \n",
    "if dataset_subset in [\"eurlex\",\"ecthr_a\",\"ecthr_b\"]:\n",
    "    type_of_clasiification = \"multi_label\"#\"multi_class\"\n",
    "    label_ = 'labels'\n",
    "elif dataset_subset in [\"scotus\"]:\n",
    "    type_of_clasiification = \"multi_class\"\n",
    "    label_ = 'label'\n",
    "\n",
    "#load dataset \n",
    "dataset = datasets.load_from_disk(f\"/gpfsdswork/dataset/HuggingFace/lex_glue/{dataset_subset}\")\n",
    "#dataset = datasets.load_dataset(\"lex_glue\", dataset_subset)\n",
    "\n",
    "train_data = dataset['train'].to_pandas()"
   ]
  },
  {
   "cell_type": "code",
   "execution_count": 2,
   "id": "8e02fffa-17bd-41ff-9fef-b00e8a90af89",
   "metadata": {},
   "outputs": [
    {
     "data": {
      "text/html": [
       "<div>\n",
       "<style scoped>\n",
       "    .dataframe tbody tr th:only-of-type {\n",
       "        vertical-align: middle;\n",
       "    }\n",
       "\n",
       "    .dataframe tbody tr th {\n",
       "        vertical-align: top;\n",
       "    }\n",
       "\n",
       "    .dataframe thead th {\n",
       "        text-align: right;\n",
       "    }\n",
       "</style>\n",
       "<table border=\"1\" class=\"dataframe\">\n",
       "  <thead>\n",
       "    <tr style=\"text-align: right;\">\n",
       "      <th></th>\n",
       "      <th>text</th>\n",
       "      <th>label</th>\n",
       "    </tr>\n",
       "  </thead>\n",
       "  <tbody>\n",
       "    <tr>\n",
       "      <th>0</th>\n",
       "      <td>329 U.S. 29\\n67 S.Ct. 1\\n91 L.Ed. 22\\nCHAMPLIN...</td>\n",
       "      <td>7</td>\n",
       "    </tr>\n",
       "    <tr>\n",
       "      <th>1</th>\n",
       "      <td>329 U.S. 1\\n67 S.Ct. 6\\n91 L.Ed. 3\\nHALLIBURTO...</td>\n",
       "      <td>7</td>\n",
       "    </tr>\n",
       "    <tr>\n",
       "      <th>2</th>\n",
       "      <td>329 U.S. 14\\n67 S.Ct. 13\\n91 L.Ed. 12\\nCLEVELA...</td>\n",
       "      <td>0</td>\n",
       "    </tr>\n",
       "    <tr>\n",
       "      <th>3</th>\n",
       "      <td>329 U.S. 40\\n67 S.Ct. 167\\n91 L.Ed. 29\\nUNITED...</td>\n",
       "      <td>1</td>\n",
       "    </tr>\n",
       "    <tr>\n",
       "      <th>4</th>\n",
       "      <td>329 U.S. 90\\n67 S.Ct. 133\\n91 L.Ed. 103\\nAMERI...</td>\n",
       "      <td>7</td>\n",
       "    </tr>\n",
       "    <tr>\n",
       "      <th>...</th>\n",
       "      <td>...</td>\n",
       "      <td>...</td>\n",
       "    </tr>\n",
       "    <tr>\n",
       "      <th>4995</th>\n",
       "      <td>459 U.S. 176\\n103 S.Ct. 539\\n74 L.Ed.2d 348\\nS...</td>\n",
       "      <td>10</td>\n",
       "    </tr>\n",
       "    <tr>\n",
       "      <th>4996</th>\n",
       "      <td>459 U.S. 212\\n103 S.Ct. 588\\n74 L.Ed.2d 402\\nC...</td>\n",
       "      <td>6</td>\n",
       "    </tr>\n",
       "    <tr>\n",
       "      <th>4997</th>\n",
       "      <td>459 U.S. 297\\n103 S.Ct. 634\\n74 L.Ed.2d 465\\nD...</td>\n",
       "      <td>7</td>\n",
       "    </tr>\n",
       "    <tr>\n",
       "      <th>4998</th>\n",
       "      <td>459 U.S. 248\\n103 S.Ct. 608\\n74 L.Ed.2d 430\\nT...</td>\n",
       "      <td>0</td>\n",
       "    </tr>\n",
       "    <tr>\n",
       "      <th>4999</th>\n",
       "      <td>459 U.S. 344\\n103 S.Ct. 665\\n74 L.Ed.2d 523\\nL...</td>\n",
       "      <td>6</td>\n",
       "    </tr>\n",
       "  </tbody>\n",
       "</table>\n",
       "<p>5000 rows × 2 columns</p>\n",
       "</div>"
      ],
      "text/plain": [
       "                                                   text  label\n",
       "0     329 U.S. 29\\n67 S.Ct. 1\\n91 L.Ed. 22\\nCHAMPLIN...      7\n",
       "1     329 U.S. 1\\n67 S.Ct. 6\\n91 L.Ed. 3\\nHALLIBURTO...      7\n",
       "2     329 U.S. 14\\n67 S.Ct. 13\\n91 L.Ed. 12\\nCLEVELA...      0\n",
       "3     329 U.S. 40\\n67 S.Ct. 167\\n91 L.Ed. 29\\nUNITED...      1\n",
       "4     329 U.S. 90\\n67 S.Ct. 133\\n91 L.Ed. 103\\nAMERI...      7\n",
       "...                                                 ...    ...\n",
       "4995  459 U.S. 176\\n103 S.Ct. 539\\n74 L.Ed.2d 348\\nS...     10\n",
       "4996  459 U.S. 212\\n103 S.Ct. 588\\n74 L.Ed.2d 402\\nC...      6\n",
       "4997  459 U.S. 297\\n103 S.Ct. 634\\n74 L.Ed.2d 465\\nD...      7\n",
       "4998  459 U.S. 248\\n103 S.Ct. 608\\n74 L.Ed.2d 430\\nT...      0\n",
       "4999  459 U.S. 344\\n103 S.Ct. 665\\n74 L.Ed.2d 523\\nL...      6\n",
       "\n",
       "[5000 rows x 2 columns]"
      ]
     },
     "execution_count": 2,
     "metadata": {},
     "output_type": "execute_result"
    }
   ],
   "source": [
    "train_data['text'][]"
   ]
  },
  {
   "cell_type": "code",
   "execution_count": 3,
   "id": "5d276564-71b8-4964-b80c-5891b0620864",
   "metadata": {},
   "outputs": [
    {
     "name": "stdout",
     "output_type": "stream",
     "text": [
      "                                                   text  label\n",
      "0     329 U.S. 29\\n67 S.Ct. 1\\n91 L.Ed. 22\\nCHAMPLIN...      7\n",
      "1     329 U.S. 1\\n67 S.Ct. 6\\n91 L.Ed. 3\\nHALLIBURTO...      7\n",
      "2     329 U.S. 14\\n67 S.Ct. 13\\n91 L.Ed. 12\\nCLEVELA...      0\n",
      "3     329 U.S. 40\\n67 S.Ct. 167\\n91 L.Ed. 29\\nUNITED...      1\n",
      "4     329 U.S. 90\\n67 S.Ct. 133\\n91 L.Ed. 103\\nAMERI...      7\n",
      "...                                                 ...    ...\n",
      "4995  459 U.S. 176\\n103 S.Ct. 539\\n74 L.Ed.2d 348\\nS...     10\n",
      "4996  459 U.S. 212\\n103 S.Ct. 588\\n74 L.Ed.2d 402\\nC...      6\n",
      "4997  459 U.S. 297\\n103 S.Ct. 634\\n74 L.Ed.2d 465\\nD...      7\n",
      "4998  459 U.S. 248\\n103 S.Ct. 608\\n74 L.Ed.2d 430\\nT...      0\n",
      "4999  459 U.S. 344\\n103 S.Ct. 665\\n74 L.Ed.2d 523\\nL...      6\n",
      "\n",
      "[5000 rows x 2 columns]\n"
     ]
    }
   ],
   "source": [
    "print(train_data)"
   ]
  },
  {
   "cell_type": "code",
   "execution_count": null,
   "id": "ff43bcb7-b5f6-4509-b332-ff09c952774e",
   "metadata": {},
   "outputs": [],
   "source": []
  },
  {
   "cell_type": "markdown",
   "id": "edf672d5-8ecb-49ec-9f3e-9fb03cfd7ba0",
   "metadata": {},
   "source": [
    "# code edit for Level 3 Classification + Clustering  "
   ]
  },
  {
   "cell_type": "code",
   "execution_count": 59,
   "id": "20720f19-73fe-453f-ad5c-1a09ae973a44",
   "metadata": {},
   "outputs": [],
   "source": [
    "import argparse\n",
    "\n",
    "def args_parser():\n",
    "    args = argparse.ArgumentParser()\n",
    "    args.add_argument(\n",
    "        \"--dataset_subset\", \n",
    "        type=str, \n",
    "        default=None, \n",
    "        help=\"Dataset to train on\")\n",
    "    \n",
    "    args.add_argument(\n",
    "        \"--combine_layers\", \n",
    "        type=bool, \n",
    "        default=True, \n",
    "        help=\"Is the extracted data combined to train?\")\n",
    "    \n",
    "    args.add_argument(\n",
    "        \"--add_layers\",\n",
    "        type=bool,\n",
    "        default=False,\n",
    "        help=\"Is the extracted data from last four layers added together?\")\n",
    "    \n",
    "    args.add_argument(\n",
    "        \"--layers_from_end\",\n",
    "        type=int,\n",
    "        default=4,\n",
    "        help=\"How many layers from the end are combined or added?\")\n",
    "    \n",
    "    args.add_argument(\n",
    "        \"--save_model_trained_here\",\n",
    "        type=bool,\n",
    "        default=True,\n",
    "        help=\"Save the model trained here?\")\n",
    "    \n",
    "    args.add_argument(\n",
    "        \"--self_ft_extracted\",\n",
    "        type=bool,\n",
    "        default=True,\n",
    "        help=\"Is the extracted data extracted from model finetuned by you?\")\n",
    "    \n",
    "    args.add_argument(\n",
    "        \"--ft_model_used_for_extraction\",\n",
    "        type=str,\n",
    "        default=\"ft_model\",\n",
    "        help=\"If so then path of the finetuned model which was used for the extraction\")\n",
    "    \n",
    "    args.add_argument(\n",
    "        \"--pretrained_model\",\n",
    "        type=str,\n",
    "        default=\"Pretrained_model\",\n",
    "        help=\"which pretrained model was finetuned (path from huggingface)?\")\n",
    "\n",
    "    #------------------for training------------------\n",
    "    args.add_argument(\n",
    "        \"--to_test\",\n",
    "        type=bool,\n",
    "        default=False,\n",
    "        help=\"If this is true only then it tests on the test set\")\n",
    "    \n",
    "    args.add_argument(\n",
    "        \"--to_train\",\n",
    "        type=bool,\n",
    "        default=True,\n",
    "        help=\"If this is true only then it trains\")\n",
    "    \n",
    "    args.add_argument(\n",
    "        \"--verbose\",\n",
    "        type=int,\n",
    "        default=2,\n",
    "        help=\"1 to show training, 2 for silent training, 3 for no display\")\n",
    "    \n",
    "    args.add_argument(\n",
    "        \"--epochs\",\n",
    "        type=int,\n",
    "        default=4,\n",
    "        help=\"epochs to train the model\")\n",
    "    \n",
    "    args.add_argument(\n",
    "        \"--batch_size\",\n",
    "        type=int,\n",
    "        default=1,\n",
    "        help=\"batch_size\")\n",
    "    \n",
    "    args.add_argument(\n",
    "        \"--load_to_retrain\",\n",
    "        type=bool,\n",
    "        default=False,\n",
    "        help=\"load model for retraining\")\n",
    "    \n",
    "    args.add_argument(\n",
    "        \"--model_load_path\",\n",
    "        type=str,\n",
    "        default=\"\",\n",
    "        help=\"load model for retraining or testing (when to_test is true and to_train is false)\")\n",
    "    \n",
    "    args.add_argument(\n",
    "        \"--to_freeze\",\n",
    "        type=bool,\n",
    "        default=False,\n",
    "        help=\"to freeze the encoder model\")\n",
    "    \n",
    "    args.add_argument(\n",
    "        \"--layers_to_freeze\",\n",
    "        type=list,\n",
    "        default=[1],\n",
    "        help=\"Layers to freeze in the model\")\n",
    "    \n",
    "    #------------only for encoder model\n",
    "    args.add_argument(\n",
    "        \"--max_positional_encoding\",\n",
    "        type=int,\n",
    "        default=40,\n",
    "        help=\"max_positional_encoding\")\n",
    "    \n",
    "    args.add_argument(\n",
    "        \"--num_layers\",\n",
    "        type=int,\n",
    "        default=3,\n",
    "        help=\"num_layers\")\n",
    "    \n",
    "    args.add_argument(\n",
    "        \"--bilstm_before_encoder\",\n",
    "        type=bool,\n",
    "        default=False,\n",
    "        help=\"bilstm_before_encoder\")\n",
    "    \n",
    "    args.add_argument(\n",
    "        \"--dropout_before_first_fnn\",\n",
    "        type=bool,\n",
    "        default=True,\n",
    "        help=\"dropout_before_first_fnn\")\n",
    "    \n",
    "    args.add_argument(\n",
    "        \"--dropout_before_inner_fnn\",\n",
    "        type=bool,\n",
    "        default=True,\n",
    "        help=\"dropout_before_inner_fnn\")\n",
    "    \n",
    "    args.add_argument(\n",
    "        \"--ffn_dropout_value\",\n",
    "        type=float,\n",
    "        default=0.15,\n",
    "        help=\"ffn_dropout_value\")\n",
    "    \n",
    "    args.add_argument(\n",
    "        \"--dropout_after_first_encoder\",\n",
    "        type=bool,\n",
    "        default=True,\n",
    "        help=\"dropout_after_first_encoder\")\n",
    "    \n",
    "    args.add_argument(\n",
    "        \"--dropout_after_second_encoder\",\n",
    "        type=bool,\n",
    "        default=True,\n",
    "        help=\"dropout_after_second_encoder\")\n",
    "    \n",
    "    args.add_argument(\n",
    "        \"--encoder_dropout_value\",\n",
    "        type=float,\n",
    "        default=0.25,\n",
    "        help=\"encoder_dropout_value\")\n",
    "    \n",
    "    args.add_argument(\n",
    "        \"--dff\",\n",
    "        type=int,\n",
    "        default=2048,\n",
    "        help=\"dff for transformer encoder block. Make this same as the hidden dimension of the transformer model (GPT-Neo, GPT-J etc.) used to extract the CLS embeddings\")\n",
    "    \n",
    "    args.add_argument(\n",
    "        \"--d_model\",\n",
    "        type=int,\n",
    "        default=768,\n",
    "        help=\"\"\"d_model for transformer encoder block. It is the embedding dimension for the input. \n",
    "        So for GPT-Neo and GPT-J it is 4096 i.e the the last feature dimension of the output layer of the model.\"\"\")\n",
    "    \n",
    "    args.add_argument(\n",
    "        \"--num_heads\",\n",
    "        type=int,\n",
    "        default=8,\n",
    "        help=\"num_heads for transformer encoder block\")\n",
    "    \n",
    "    \n",
    "    args.add_argument(\n",
    "        \"--include_rnn\",\n",
    "        type=bool,\n",
    "        default=False,\n",
    "        help=\"include RNNs for processing output after encoder models\")\n",
    "    \n",
    "    args.add_argument(\n",
    "        \"--from_encoder\",\n",
    "        type=bool,\n",
    "        default=False,\n",
    "        help=\"connect directly to encoder or to inputs\")\n",
    "    \n",
    "    \n",
    "    #---------------------------------\n",
    "    #-----------for clustering and dimensionality reduction techniques-------------------\n",
    "    args.add_argument(\n",
    "        \"--with_clustering\",\n",
    "        type=bool,\n",
    "        default=True,\n",
    "        help=\"for all strategy of prediction with clustering\")\n",
    "    \n",
    "    args.add_argument(\n",
    "        \"--clustering_strategy\",\n",
    "        type=str,\n",
    "        default='hard',\n",
    "        help=\"hard or soft clustering\") \n",
    "    \n",
    "    args.add_argument(\n",
    "        \"--dimReduction\",\n",
    "        type=str,\n",
    "        default='pumap',\n",
    "        help=\"pumap or kmeans\") \n",
    "    \n",
    "    args.add_argument(\n",
    "        \"--dim_reduction_metric\",\n",
    "        type=str,\n",
    "        default='cosine',\n",
    "        help=\"cosine or euclidean\") \n",
    "    \n",
    "    args.add_argument(\n",
    "        \"--pad_len\",\n",
    "        type=int,\n",
    "        default=32,\n",
    "        help=\"\"\"The max length for the cluster labels for using with Dense layers processing. \n",
    "        Since input feature dimension for a dense layer is of fixed while model creation. \n",
    "        This decides the input feature dimension for the dense layer for clustered labels processing. \n",
    "        32 for ildc, 64 for scotus and eurlex, 128 for etchr_a, etchr_b\"\"\")\n",
    "    \n",
    "    args.add_argument(\n",
    "        \"--strategy\",\n",
    "        type=int,\n",
    "        default=1,\n",
    "        help=\"\"\"\n",
    "        strategy = 1.\n",
    "                    Chunked CLS\n",
    "                    embeddings  ------------------------> Encoder Model -> output\n",
    "                        |                                   |\n",
    "                Dimensionality Reduction --> Clustering ____|\n",
    "                   (PrametricUMAP)\n",
    "                \n",
    "        strategy = 2.\n",
    "                    Chunked CLS\n",
    "                    embeddings           ---------------> Encoder Model -> output\n",
    "                        |                |                  |\n",
    "                Dimensionality Reduction --> Clustering ____|\n",
    "                   (PrametricUMAP)\n",
    "                   \"\"\"\n",
    "                   )\n",
    "    \n",
    "    args.add_argument(\n",
    "        \"--only_clustered\",\n",
    "        type=bool,\n",
    "        default=False,\n",
    "        help=\"only for strategy 3\")\n",
    "    \n",
    "    args.add_argument(\n",
    "        \"--train_dimR\",\n",
    "        type=bool,\n",
    "        default=False,\n",
    "        help=\"to train dimensionality reduction model\")\n",
    "    \n",
    "    args.add_argument(\n",
    "        \"--save_dimR\",\n",
    "        type=bool,\n",
    "        default=False,\n",
    "        help=\"to save dimensionality reduction model\")\n",
    "    \n",
    "    args.add_argument(\n",
    "        \"--train_clusterer\",\n",
    "        type=bool,\n",
    "        default=False,\n",
    "        help=\"to train clustering model\")\n",
    "    \n",
    "    args.add_argument(\n",
    "        \"--save_clusterer\",\n",
    "        type=bool,\n",
    "        default=False,\n",
    "        help=\"to save clustering model\")\n",
    "\n",
    "    args.add_argument(\n",
    "        \"--parent_dir\",\n",
    "        type=str,\n",
    "        default=\"LEGAL-PE/Level-3_of_Framework/savedModels/\",\n",
    "        help=\"parent directory of the model (used to save the model)\") \n",
    "\n",
    "    args = args.parse_args()\n",
    "\n",
    "    if args.to_train == False:\n",
    "        args.train_dimR = False \n",
    "        args.train_clusterer = False\n",
    "    if args.train_dimR == True:\n",
    "        args.save_dimR = True \n",
    "    if args.train_clusterer == True:\n",
    "        args.save_clusterer = True\n",
    "    if args.to_test and args.to_train==False:\n",
    "        if args.model_load_path == \"\":\n",
    "            raise ValueError(\"Please provide the model path to load for testing!\")\n",
    "    if args.combine_layers == False:\n",
    "        args.layers_from_end = 1\n",
    "        args.combine_layers = True\n",
    "\n",
    "    return args\n"
   ]
  },
  {
   "cell_type": "code",
   "execution_count": 87,
   "id": "aa6faf51-0997-438b-9903-4985611e82d6",
   "metadata": {},
   "outputs": [],
   "source": [
    "data_path = for_ipynb_run + \"LEGAL-P_E/SIGIR_experiments/finetuned_models/scotus/Extracted_data/Neo2.7b/\"\n",
    "\n",
    "inputs_train = np.load(data_path+\"train_.npy\", allow_pickle = True)\n",
    "labels_train = np.load(data_path+\"train_labels_.npy\", allow_pickle = True).astype('int32')\n",
    "\n",
    "inputs_validate = np.load(data_path+\"validation_.npy\", allow_pickle = True)\n",
    "labels_validate = np.load(data_path+\"validation_labels_.npy\", allow_pickle = True).astype('int32')\n",
    "\n",
    "inputs_test = np.load(data_path+\"test_.npy\", allow_pickle = True)\n",
    "labels_test = np.load(data_path+\"test_labels_.npy\", allow_pickle = True)"
   ]
  },
  {
   "cell_type": "code",
   "execution_count": 88,
   "id": "5f533087-41f1-4df5-8924-315155b14f5a",
   "metadata": {},
   "outputs": [
    {
     "name": "stdout",
     "output_type": "stream",
     "text": [
      "(5000,)\n",
      "(1400,)\n",
      "(1400,)\n"
     ]
    },
    {
     "data": {
      "text/plain": [
       "Counter({7: 1043,\n",
       "         0: 1011,\n",
       "         1: 811,\n",
       "         6: 255,\n",
       "         3: 193,\n",
       "         8: 717,\n",
       "         11: 220,\n",
       "         2: 423,\n",
       "         4: 45,\n",
       "         10: 53,\n",
       "         9: 191,\n",
       "         5: 35,\n",
       "         12: 3})"
      ]
     },
     "execution_count": 88,
     "metadata": {},
     "output_type": "execute_result"
    }
   ],
   "source": [
    "print(labels_train.shape)\n",
    "print(labels_validate.shape)\n",
    "print(labels_test.shape)\n",
    "from collections import Counter\n",
    "Counter(labels_train)"
   ]
  },
  {
   "cell_type": "code",
   "execution_count": 89,
   "id": "7e0bf1e7-589b-495e-9c79-9d39dec96424",
   "metadata": {},
   "outputs": [
    {
     "name": "stdout",
     "output_type": "stream",
     "text": [
      "(5000, 13)\n",
      "(1400, 13)\n",
      "(1400, 13)\n"
     ]
    }
   ],
   "source": [
    "#for SCOTUS (cause of the error while extracting cls the labels were extracted in original int format rather than binarised array of 1's and 0's)\n",
    "from sklearn.preprocessing import MultiLabelBinarizer,LabelBinarizer\n",
    "lookup_ = LabelBinarizer()\n",
    "lookup_.fit(labels_train)\n",
    "labels_binarized_train = lookup_.transform(labels_train)\n",
    "labels_binarized_validate = lookup_.transform(labels_validate)\n",
    "labels_binarized_test = lookup_.transform(labels_test.astype('int32'))\n",
    "print(labels_binarized_train.shape)\n",
    "print(labels_binarized_validate.shape)\n",
    "print(labels_binarized_test.shape)\n",
    "from collections import Counter\n",
    "#Counter(labels_binarized_train)"
   ]
  },
  {
   "cell_type": "code",
   "execution_count": 90,
   "id": "abe1029b-2563-41f5-bf48-6e47bee3800d",
   "metadata": {},
   "outputs": [],
   "source": [
    "def if_correctly_binarised(actual_labels, binarised_labels):\n",
    "    for a, b in zip(actual_labels, binarised_labels):\n",
    "        if np.argmax(b) != a:\n",
    "            print(\"not equal\")\n",
    "            return\n",
    "    print(\"Equal\")\n",
    "    return"
   ]
  },
  {
   "cell_type": "code",
   "execution_count": 91,
   "id": "5db60645-28ed-4c46-8eda-c5f9f7e03903",
   "metadata": {},
   "outputs": [
    {
     "name": "stdout",
     "output_type": "stream",
     "text": [
      "Equal\n",
      "Equal\n",
      "Equal\n"
     ]
    }
   ],
   "source": [
    "if_correctly_binarised(labels_train,labels_binarized_train)\n",
    "if_correctly_binarised(labels_validate, labels_binarized_validate)\n",
    "if_correctly_binarised(labels_test.astype('int32'), labels_binarized_test)"
   ]
  },
  {
   "cell_type": "code",
   "execution_count": 92,
   "id": "c3c40307-e929-4715-912f-a8bac77542b1",
   "metadata": {},
   "outputs": [],
   "source": [
    "#save the binarised labels \n",
    "np.save(data_path+\"train_labels_b.npy\", labels_binarized_train)\n",
    "np.save(data_path+\"validation_labels_b.npy\", labels_binarized_validate)\n",
    "np.save(data_path+\"test_labels_b.npy\", labels_binarized_test)"
   ]
  },
  {
   "cell_type": "code",
   "execution_count": 54,
   "id": "6e6e6a83-13fd-4846-890a-d362e688c3b7",
   "metadata": {},
   "outputs": [
    {
     "data": {
      "text/plain": [
       "array([0, 0, 0, 0, 0, 0, 0, 1, 0, 0, 0, 0, 0])"
      ]
     },
     "execution_count": 54,
     "metadata": {},
     "output_type": "execute_result"
    }
   ],
   "source": [
    "labels_binarized_train[0]"
   ]
  },
  {
   "cell_type": "code",
   "execution_count": 9,
   "id": "525f906e-fbcf-420d-8ecc-0d065b0669a1",
   "metadata": {},
   "outputs": [
    {
     "data": {
      "text/plain": [
       "(132, 4, 2560)"
      ]
     },
     "execution_count": 9,
     "metadata": {},
     "output_type": "execute_result"
    }
   ],
   "source": [
    "inputs_train[0].shape"
   ]
  },
  {
   "cell_type": "code",
   "execution_count": 10,
   "id": "bd222817-8b0f-4f01-98a6-9993b7d75e4a",
   "metadata": {},
   "outputs": [],
   "source": [
    "exp = np.load(data_path+\"exp_.npy\", allow_pickle = True)\n",
    "y_exp = np.load(data_path+\"exp_labels_.npy\", allow_pickle = True) "
   ]
  },
  {
   "cell_type": "code",
   "execution_count": 11,
   "id": "e8db31c2-7c93-46fb-90a2-de87d0d28dd1",
   "metadata": {},
   "outputs": [
    {
     "data": {
      "text/plain": [
       "(18, 4, 2560)"
      ]
     },
     "execution_count": 11,
     "metadata": {},
     "output_type": "execute_result"
    }
   ],
   "source": [
    "exp[0].shape"
   ]
  },
  {
   "cell_type": "code",
   "execution_count": null,
   "id": "8ffe6d16-7f3f-4c41-8927-d34f345f6c8a",
   "metadata": {},
   "outputs": [],
   "source": [
    "#LEGAL-P_E/SIGIR_experiments/finetuned_models/ildc/Extracted_data/from_512input_ft_model/Neo1.3b"
   ]
  },
  {
   "cell_type": "code",
   "execution_count": 2,
   "id": "3234fb51-3ffa-4bd9-a159-2649fe091eef",
   "metadata": {},
   "outputs": [
    {
     "name": "stdout",
     "output_type": "stream",
     "text": [
      "(132, 4, 4096)\n"
     ]
    }
   ],
   "source": [
    "#del inputs_train, labels_train, inputs_validate, labels_validate, test, y_test\n",
    "data_path = for_ipynb_run + \"LEGAL-P_E/SIGIR_experiments/finetuned_models/ildc/Extracted_data/from_2048input_ft_model/512_input_len_100_overlap/J6b/\"\n",
    "train_0 = np.load(data_path+\"train_1_of_3_.npy\", allow_pickle = True)\n",
    "train_1 = np.load(data_path+\"train_2_of_3_.npy\", allow_pickle = True)\n",
    "train_2 = np.load(data_path+\"train_3_of_3_.npy\", allow_pickle = True)\n",
    "train_set = np.concatenate((train_0, train_1, train_2))\n",
    "print(train_set[0].shape)\n",
    "\n",
    "#np.save(data_path+\"train_.npy\",train_set)"
   ]
  },
  {
   "cell_type": "code",
   "execution_count": 3,
   "id": "c378685f-4c16-4af6-8c88-65a6a5de0d0d",
   "metadata": {},
   "outputs": [],
   "source": [
    "#data_path = for_ipynb_run + \"LEGAL-P_E/SIGIR_experiments/finetuned_models/ildc/Extracted_data/J6b/\"\n",
    "train_ind_0 = np.load(data_path+\"train_indexes_1_of_3_.npy\", allow_pickle = True)\n",
    "train_ind_1 = np.load(data_path+\"train_indexes_2_of_3_.npy\", allow_pickle = True)\n",
    "train_ind_2 = np.load(data_path+\"train_indexes_3_of_3_.npy\", allow_pickle = True)\n",
    "train_ind = np.concatenate((train_ind_0, train_ind_1, train_ind_2))\n",
    "train_ind.shape\n",
    "\n",
    "#np.save(data_path+\"train_indexes_.npy\",train_ind)"
   ]
  },
  {
   "cell_type": "code",
   "execution_count": 4,
   "id": "c2f38a6c-0bb8-4984-a0cf-dbfb343fbdec",
   "metadata": {},
   "outputs": [],
   "source": [
    "#data_path = for_ipynb_run + \"LEGAL-P_E/SIGIR_experiments/finetuned_models/ildc/Extracted_data/J6b/\"\n",
    "train_lab_0 = np.load(data_path+\"train_labels_1_of_3_.npy\", allow_pickle = True)\n",
    "train_lab_1 = np.load(data_path+\"train_labels_2_of_3_.npy\", allow_pickle = True)\n",
    "train_lab_2 = np.load(data_path+\"train_labels_3_of_3_.npy\", allow_pickle = True)\n",
    "train_lab = np.concatenate((train_lab_0, train_lab_1, train_lab_2))\n",
    "train_lab.shape\n",
    "\n",
    "#np.save(data_path+\"train_labels_.npy\",train_lab)"
   ]
  },
  {
   "cell_type": "code",
   "execution_count": null,
   "id": "90ee1473-720b-4e27-b4d1-87cb2cc102d3",
   "metadata": {},
   "outputs": [],
   "source": [
    "#val_lab = np.load(data_path+\"validation_.npy\",allow_pickle=True)\n",
    "print(train_set[0])"
   ]
  },
  {
   "cell_type": "code",
   "execution_count": 1,
   "id": "7cda5cfc-ccd3-4eb1-ba50-a8c15c53e4f3",
   "metadata": {},
   "outputs": [
    {
     "ename": "NameError",
     "evalue": "name 'train_set' is not defined",
     "output_type": "error",
     "traceback": [
      "\u001b[0;31m---------------------------------------------------------------------------\u001b[0m",
      "\u001b[0;31mNameError\u001b[0m                                 Traceback (most recent call last)",
      "Cell \u001b[0;32mIn[1], line 3\u001b[0m\n\u001b[1;32m      1\u001b[0m \u001b[38;5;28;01mfrom\u001b[39;00m \u001b[38;5;21;01msklearn\u001b[39;00m\u001b[38;5;21;01m.\u001b[39;00m\u001b[38;5;21;01mpreprocessing\u001b[39;00m \u001b[38;5;28;01mimport\u001b[39;00m MinMaxScaler\n\u001b[1;32m      2\u001b[0m scaler \u001b[38;5;241m=\u001b[39m MinMaxScaler()\n\u001b[0;32m----> 3\u001b[0m \u001b[38;5;28mprint\u001b[39m(scaler\u001b[38;5;241m.\u001b[39mfit(\u001b[43mtrain_set\u001b[49m))\n",
      "\u001b[0;31mNameError\u001b[0m: name 'train_set' is not defined"
     ]
    }
   ],
   "source": [
    "\n",
    "from sklearn.preprocessing import MinMaxScaler\n",
    "scaler = MinMaxScaler()\n",
    "print(scaler.fit(train_set))"
   ]
  },
  {
   "cell_type": "code",
   "execution_count": 63,
   "id": "8eaba93a-0f5e-483a-b220-32b8394c4bb1",
   "metadata": {},
   "outputs": [
    {
     "data": {
      "text/plain": [
       "37387"
      ]
     },
     "execution_count": 63,
     "metadata": {},
     "output_type": "execute_result"
    }
   ],
   "source": [
    "len(train_lab)"
   ]
  },
  {
   "cell_type": "code",
   "execution_count": 8,
   "id": "1698a3a9-ec86-4d96-b53d-95cb3e5c2a9c",
   "metadata": {},
   "outputs": [],
   "source": [
    "import pandas as pd\n",
    "data = pd.read_csv(for_ipynb_run+\"LEGAL-PE/SIGIR_experiments/datasets/ILDC/ILDC_multi.csv\")\n",
    "data_s = pd.read_csv(for_ipynb_run+\"LEGAL-PE/SIGIR_experiments/datasets/ILDC/ILDC_single.csv\")\n",
    "train_data = data.query(\"split=='train'\")\n",
    "train_data_s = data_s.query(\"split=='train'\")\n",
    "validation_data = data.query(\"split=='dev'\")\n",
    "test_data = data.query(\"split=='test'\")"
   ]
  },
  {
   "cell_type": "code",
   "execution_count": 15,
   "id": "79b83f74-ba1a-4222-b087-f8c390baffd6",
   "metadata": {},
   "outputs": [
    {
     "name": "stdout",
     "output_type": "stream",
     "text": [
      "1\n"
     ]
    }
   ],
   "source": [
    "print(train_data['label'][6])"
   ]
  },
  {
   "cell_type": "code",
   "execution_count": 60,
   "id": "a5e93db5-0a09-41e8-bb7c-048287498bba",
   "metadata": {},
   "outputs": [
    {
     "name": "stderr",
     "output_type": "stream",
     "text": [
      "usage: ipykernel_launcher.py [-h] [--dataset_subset DATASET_SUBSET]\n",
      "                             [--combine_layers COMBINE_LAYERS]\n",
      "                             [--add_layers ADD_LAYERS]\n",
      "                             [--layers_from_end LAYERS_FROM_END]\n",
      "                             [--save_model_trained_here SAVE_MODEL_TRAINED_HERE]\n",
      "                             [--self_ft_extracted SELF_FT_EXTRACTED]\n",
      "                             [--ft_model_used_for_extraction FT_MODEL_USED_FOR_EXTRACTION]\n",
      "                             [--pretrained_model PRETRAINED_MODEL]\n",
      "                             [--to_test TO_TEST] [--to_train TO_TRAIN]\n",
      "                             [--verbose VERBOSE] [--epochs EPOCHS]\n",
      "                             [--batch_size BATCH_SIZE]\n",
      "                             [--load_to_retrain LOAD_TO_RETRAIN]\n",
      "                             [--model_load_path MODEL_LOAD_PATH]\n",
      "                             [--to_freeze TO_FREEZE]\n",
      "                             [--layers_to_freeze LAYERS_TO_FREEZE]\n",
      "                             [--max_positional_encoding MAX_POSITIONAL_ENCODING]\n",
      "                             [--num_layers NUM_LAYERS]\n",
      "                             [--bilstm_before_encoder BILSTM_BEFORE_ENCODER]\n",
      "                             [--dropout_before_first_fnn DROPOUT_BEFORE_FIRST_FNN]\n",
      "                             [--dropout_before_inner_fnn DROPOUT_BEFORE_INNER_FNN]\n",
      "                             [--ffn_dropout_value FFN_DROPOUT_VALUE]\n",
      "                             [--dropout_after_first_encoder DROPOUT_AFTER_FIRST_ENCODER]\n",
      "                             [--dropout_after_second_encoder DROPOUT_AFTER_SECOND_ENCODER]\n",
      "                             [--encoder_dropout_value ENCODER_DROPOUT_VALUE]\n",
      "                             [--dff DFF] [--d_model D_MODEL]\n",
      "                             [--num_heads NUM_HEADS]\n",
      "                             [--include_rnn INCLUDE_RNN]\n",
      "                             [--from_encoder FROM_ENCODER]\n",
      "                             [--with_clustering WITH_CLUSTERING]\n",
      "                             [--clustering_strategy CLUSTERING_STRATEGY]\n",
      "                             [--dimReduction DIMREDUCTION]\n",
      "                             [--dim_reduction_metric DIM_REDUCTION_METRIC]\n",
      "                             [--pad_len PAD_LEN] [--strategy STRATEGY]\n",
      "                             [--only_clustered ONLY_CLUSTERED]\n",
      "                             [--train_dimR TRAIN_DIMR] [--save_dimR SAVE_DIMR]\n",
      "                             [--train_clusterer TRAIN_CLUSTERER]\n",
      "                             [--save_clusterer SAVE_CLUSTERER]\n",
      "                             [--parent_dir PARENT_DIR]\n",
      "ipykernel_launcher.py: error: unrecognized arguments: -f /gpfs7kw/linkhome/rech/geniri01/uei84ht/.jupyterhub/share/jupyter/runtime/kernel-bec8e6bf-94db-4233-9f9e-01709a314b22.json\n"
     ]
    },
    {
     "ename": "SystemExit",
     "evalue": "2",
     "output_type": "error",
     "traceback": [
      "An exception has occurred, use %tb to see the full traceback.\n",
      "\u001b[0;31mSystemExit\u001b[0m\u001b[0;31m:\u001b[0m 2\n"
     ]
    }
   ],
   "source": [
    "\n",
    "\n",
    "args = args_parser()\n",
    "if args.combine_layers:\n",
    "    if args.layers_from_end==1:\n",
    "        for i in range(inputs_validate.shape[0]):\n",
    "            inputs_validate[i] = inputs_validate[i][0]\n",
    "        if args.to_test:\n",
    "            for i in range(test.shape[0]):\n",
    "                test[i] = test[i][0]\n",
    "        else:\n",
    "            for i in range(inputs_train.shape[0]):\n",
    "                inputs_train[i] = inputs_train[i][0]\n",
    "    elif args.layers_from_end>1:\n",
    "        l_ = args.layers_from_end\n",
    "        for i in range(inputs_validate.shape[0]):\n",
    "            inputs_validate[i] = inputs_validate[i][:,:l_,:]\n",
    "        if args.to_test:\n",
    "            for i in range(test.shape[0]):\n",
    "                test[i] = test[i][:,:l_,:]\n",
    "        else:\n",
    "            for i in range(inputs_train.shape[0]):\n",
    "                inputs_train[i] = inputs_train[i][:,:l_,:]\n",
    "        \n",
    "        if args.add_layers:\n",
    "            for i in range(inputs_validate.shape[0]):\n",
    "                inputs_validate[i] = np.sum(inputs_validate[i], axis = 1)\n",
    "            if args.to_test:\n",
    "                for i in range(test.shape[0]):\n",
    "                    test[i] = np.sum(test[i], axis = 1)\n",
    "            else:\n",
    "                for i in range(inputs_train.shape[0]):\n",
    "                    inputs_train[i] = np.sum(inputs_train[i], axis = 1)\n",
    "\n",
    "        else:\n",
    "            for i in range(inputs_validate.shape[0]):\n",
    "                inputs_validate[i] = np.reshape(inputs_validate[i], (inputs_validate[i].shape[0], -1))  \n",
    "            if args.to_test:\n",
    "                for i in range(test.shape[0]):\n",
    "                    test[i] = np.reshape(test[i], (test[i].shape[0], -1))\n",
    "            else:\n",
    "                for i in range(inputs_train.shape[0]):\n",
    "                    inputs_train[i] = np.reshape(inputs_train[i], (inputs_train[i].shape[0], -1))"
   ]
  },
  {
   "cell_type": "code",
   "execution_count": 50,
   "id": "952fbbc9-6d6d-4bb7-9bdd-68beacb75daa",
   "metadata": {},
   "outputs": [
    {
     "data": {
      "text/plain": [
       "(73, 3, 4096)"
      ]
     },
     "execution_count": 50,
     "metadata": {},
     "output_type": "execute_result"
    }
   ],
   "source": [
    "p = train_set[1][:,:3,:]\n",
    "p.shape"
   ]
  },
  {
   "cell_type": "code",
   "execution_count": 51,
   "id": "9af1d5b1-81af-433a-8227-cb3ac698e13b",
   "metadata": {},
   "outputs": [
    {
     "data": {
      "text/plain": [
       "(73, 4096)"
      ]
     },
     "execution_count": 51,
     "metadata": {},
     "output_type": "execute_result"
    }
   ],
   "source": [
    "p_ = np.sum(p, axis = 1)\n",
    "p_.shape"
   ]
  },
  {
   "cell_type": "code",
   "execution_count": 52,
   "id": "e484eb58-9b2c-4099-beee-695d2c3eb565",
   "metadata": {},
   "outputs": [
    {
     "data": {
      "text/plain": [
       "(73, 12288)"
      ]
     },
     "execution_count": 52,
     "metadata": {},
     "output_type": "execute_result"
    }
   ],
   "source": [
    "p__ = np.reshape(p, (p.shape[0],-1))\n",
    "p__.shape"
   ]
  },
  {
   "cell_type": "code",
   "execution_count": null,
   "id": "e47e4480-5f30-427f-a7b4-c3813eeb3524",
   "metadata": {},
   "outputs": [],
   "source": [
    "from sklearn.preprocessing import MultiLabelBinarizer,LabelBinarizer\n",
    "def convert_to_binarised_labels(data, column: str, vocabulary: list = None, lookup = None, return_lookup: bool = False, problem_type: str = \"multi_class\"): #or multi_label\n",
    "    #labels = tf.ragged.constant(train_data[column].values)\n",
    "    #if lookup == None:\n",
    "        #if vocabulary:\n",
    "        #    lookup = tf.keras.layers.IntegerLookup(output_mode=\"multi_hot\", vocabulary = vocabulary, vocabulary_dtype=\"int64\")\n",
    "        #else:\n",
    "        #    lookup = tf.keras.layers.IntegerLookup(output_mode=\"multi_hot\")\n",
    "        #    lookup.adapt(labels)\n",
    "    #    lookup = MultiLabelBinarizer()\n",
    "    #    labels_binarized = lookup.fit_transform(train_data[column])\n",
    "    #labels_binarized = lookup(labels).numpy().astype('int32')\n",
    "    #else:\n",
    "    if problem_type == \"multi_class\":\n",
    "        data['labels'] = np.zeros((len(data),), dtype = object)\n",
    "        if lookup == None:\n",
    "            lookup_ = LabelBinarizer()\n",
    "    else:\n",
    "        if lookup == None:\n",
    "            lookup_ = MultiLabelBinarizer()\n",
    "    if lookup == None:\n",
    "        lookup_.fit(data[column]) #data[column]\n",
    "        labels_binarized = lookup_.transform(data[column])\n",
    "    else:\n",
    "        labels_binarized = lookup.transform(data[column])\n",
    "    #print(labels_binarized)\n",
    "\n",
    "    #print(lookup_.classes_)\n",
    "    for i in tqdm(range(len(data))):\n",
    "        data['labels'][i] = labels_binarized[i]\n",
    "    if return_lookup: \n",
    "        return data, lookup_\n",
    "    else:\n",
    "        return data"
   ]
  },
  {
   "cell_type": "markdown",
   "id": "315bda75-e908-4c67-9e47-a56b412b6195",
   "metadata": {},
   "source": [
    "### TO find the padding width for each dataset"
   ]
  },
  {
   "cell_type": "code",
   "execution_count": 8,
   "id": "a7612760-5dab-4300-8680-08a7b22025a9",
   "metadata": {},
   "outputs": [],
   "source": [
    "import numpy as np\n",
    "import statistics\n",
    "for_ipynb_run = \"/gpfsdswork/projects/rech/btm/uei84ht/\"\n",
    "#load training data\n",
    "path_ = \"LEGAL-P_E/SIGIR_experiments/finetuned_models/ecthr_a/Extracted_data/from_2048input_ft_model/2048_input_len_100_overlap/J6b/\"\n",
    "data_path = for_ipynb_run + path_\n",
    "train_0 = np.load(data_path+\"validation_.npy\", allow_pickle = True)"
   ]
  },
  {
   "cell_type": "code",
   "execution_count": null,
   "id": "124e01f8-4a9c-427b-b664-6fb733e4ab94",
   "metadata": {},
   "outputs": [],
   "source": []
  },
  {
   "cell_type": "code",
   "execution_count": 2,
   "id": "ac5c6b56-4e78-44a1-9267-53eac7ada33a",
   "metadata": {},
   "outputs": [],
   "source": [
    "import matplotlib.pyplot as plt\n",
    "from collections import Counter\n",
    "import pandas as pd\n",
    "def get_padding_widths(data, name:str, plot:bool = False, save_path:str = \"/gpfsdswork/projects/rech/btm/uei84ht/\"):\n",
    "    max_width = 0\n",
    "    all_widths = []\n",
    "    for i in range(len(data)):\n",
    "        width = data[i].shape[0]\n",
    "        all_widths.append(width)\n",
    "        if width > max_width:\n",
    "            max_width = width\n",
    "    median = statistics.median(all_widths)\n",
    "    mean = statistics.mean(all_widths)\n",
    "    width_dict = Counter(all_widths)\n",
    "    df_width_dict = pd.DataFrame(width_dict, index=[0])\n",
    "    if plot:\n",
    "        # This is a list of unique values appearing in the input list\n",
    "        all_width_unique = list(set(all_widths))\n",
    "        # This is the corresponding count for each value\n",
    "        counts = [all_widths.count(value) for value in all_width_unique]\n",
    "\n",
    "        barcontainer = plt.bar(range(len(all_width_unique)),counts,width=0.4)\n",
    "\n",
    "        # Some labels and formatting to look more like the example\n",
    "        plt.bar_label(barcontainer,all_width_unique,label_type='edge')\n",
    "        plt.axis('off')\n",
    "        plt.show()\n",
    "        \n",
    "        plt.bar(all_width_unique,counts,width=0.4)\n",
    "        plt.ylabel('Number of documents')\n",
    "        plt.xlabel('Chunks')\n",
    "        plt.xticks(range(len(all_width_unique)))\n",
    "        plt.savefig(save_path+f'chunks_statistics_{name}.png')\n",
    "        plt.show()\n",
    "        #fig.set_xticklabels(x_labels)\n",
    "        \n",
    "        fig = plt.figure()\n",
    "        ax = fig.add_axes([0,0,1,1])\n",
    "        langs = range(len(all_width_unique))\n",
    "        students = [str(x) for x in counts]#counts\n",
    "        ax.bar(langs,students)\n",
    "        plt.show()\n",
    "        \n",
    "        \n",
    "        df_width_dict.to_csv(save_path+f\"chunks_statistics_{name}_Report.csv\", index= True)\n",
    "        \n",
    "    print(f\"median:{median}\")\n",
    "    return max_width+1, median, mean, all_width_unique,counts"
   ]
  },
  {
   "cell_type": "code",
   "execution_count": 9,
   "id": "08e96964-5569-4b17-963e-864c98f6d99b",
   "metadata": {},
   "outputs": [
    {
     "data": {
      "image/png": "[encoded data removed]",
      "text/plain": [
       "<Figure size 640x480 with 1 Axes>"
      ]
     },
     "metadata": {},
     "output_type": "display_data"
    },
    {
     "data": {
      "image/png": "[encoded data removed]",
      "text/plain": [
       "<Figure size 640x480 with 1 Axes>"
      ]
     },
     "metadata": {},
     "output_type": "display_data"
    },
    {
     "data": {
      "image/png": "[encoded data removed]",
      "text/plain": [
       "<Figure size 640x480 with 1 Axes>"
      ]
     },
     "metadata": {},
     "output_type": "display_data"
    },
    {
     "name": "stdout",
     "output_type": "stream",
     "text": [
      "median:1.0\n",
      "11\n",
      "1.0\n",
      "1.677\n"
     ]
    }
   ],
   "source": [
    "train_max_width, train_median_width, train_mean_width,all_width_unique,counts = get_padding_widths(train_0, name='train', plot=True,save_path=data_path)\n",
    "print(train_max_width)\n",
    "print(train_median_width)\n",
    "print(train_mean_width)"
   ]
  },
  {
   "cell_type": "code",
   "execution_count": 7,
   "id": "26550602-a1ef-4f62-9592-51b83908a9f6",
   "metadata": {},
   "outputs": [],
   "source": [
    "train_w_u = all_width_unique\n",
    "train_c = counts"
   ]
  },
  {
   "cell_type": "code",
   "execution_count": 11,
   "id": "b0229cd4-441c-4e9b-b636-2563d54daa83",
   "metadata": {},
   "outputs": [],
   "source": [
    "val_w_u = all_width_unique\n",
    "val_c = counts"
   ]
  },
  {
   "cell_type": "code",
   "execution_count": 4,
   "id": "ffa7b214-c770-4b33-a71e-93b3d46d8e59",
   "metadata": {},
   "outputs": [],
   "source": [
    "test_w_u = all_width_unique\n",
    "test_c = counts"
   ]
  },
  {
   "cell_type": "code",
   "execution_count": 19,
   "id": "3f02cf85-8da2-47d7-bd24-37c3589b2d17",
   "metadata": {},
   "outputs": [
    {
     "data": {
      "text/plain": [
       "[6096, 1757, 604, 250, 135, 56, 38, 19, 14, 8, 6, 6, 3, 3, 2, 1, 1, 1]"
      ]
     },
     "execution_count": 19,
     "metadata": {},
     "output_type": "execute_result"
    }
   ],
   "source": [
    "def add_till_index_list(list_,index):\n",
    "    l = []\n",
    "    "
   ]
  },
  {
   "cell_type": "code",
   "execution_count": 21,
   "id": "570ae508-bd78-4515-8827-6438dd65badf",
   "metadata": {},
   "outputs": [
    {
     "data": {
      "text/plain": [
       "[560, 272, 87, 41, 22, 10, 6, 1, 1]"
      ]
     },
     "execution_count": 21,
     "metadata": {},
     "output_type": "execute_result"
    }
   ],
   "source": [
    "test_c"
   ]
  },
  {
   "cell_type": "code",
   "execution_count": 14,
   "id": "79180951-869f-48ed-bc1b-224996795f23",
   "metadata": {},
   "outputs": [],
   "source": [
    "def pad_list(to_pad,value,length):\n",
    "    new_a = to_pad + [value] * (length - len(to_pad))\n",
    "    return new_a"
   ]
  },
  {
   "cell_type": "code",
   "execution_count": 15,
   "id": "d8e246f0-f712-4d6d-91f3-c5e3e1c18a6d",
   "metadata": {},
   "outputs": [
    {
     "data": {
      "text/plain": [
       "[596, 257, 88, 28, 16]"
      ]
     },
     "execution_count": 15,
     "metadata": {},
     "output_type": "execute_result"
    }
   ],
   "source": [
    "val_c_ = pad_list(val_c,0,len(train_c))\n",
    "val_c_[:5]"
   ]
  },
  {
   "cell_type": "code",
   "execution_count": 60,
   "id": "c292bfe8-2b67-43d4-bc0f-25af3d177e1a",
   "metadata": {},
   "outputs": [
    {
     "data": {
      "text/plain": [
       "[1, 2, 3, 4, 5, 6, 7, 9, 11]"
      ]
     },
     "execution_count": 60,
     "metadata": {},
     "output_type": "execute_result"
    }
   ],
   "source": [
    "test_w_u"
   ]
  },
  {
   "cell_type": "code",
   "execution_count": 17,
   "id": "151eea76-1cf3-4380-a258-860dd3d1b8c7",
   "metadata": {},
   "outputs": [],
   "source": [
    "train_w_u_ = ['1', '2', '3', '4', '5-24']\n",
    "train_c_ = [6096, 1757, 604, 250, 293]\n",
    "val_c_ = [596, 257, 88, 28, 31]\n",
    "test_c_ = [560, 272, 87, 41, 40]"
   ]
  },
  {
   "cell_type": "code",
   "execution_count": 19,
   "id": "8ab7f3eb-ca82-4528-92e0-40afe2c0033f",
   "metadata": {},
   "outputs": [
    {
     "data": {
      "text/plain": [
       "<Axes: xlabel='Number of documents (ECtHR (A), ECtHR(B))', ylabel='Number of chunks         (chunk length=2048)'>"
      ]
     },
     "execution_count": 19,
     "metadata": {},
     "output_type": "execute_result"
    }
   ],
   "source": [
    "df = pd.DataFrame({'Train': train_c_,\n",
    "    'Validate': val_c_,#pad_list(val_c,0,len(train_c[:9])),\n",
    "    'Test': test_c_#pad_list(test_c,0,len(train_c[:9]))\n",
    "                   ,}, index=train_w_u_)\n",
    "\n",
    "df.plot.barh(figsize=(6,3.5), xlabel = 'Number of documents (ECtHR (A), ECtHR(B))', ylabel='Number of chunks (chunk length=2048)', width = 0.7, rot=0)\n",
    "#plt = ax.get_figure()\n",
    "plt.savefig(data_path+'chunk_stats_all.pdf', dpi=600, bbox_inches='tight')\n"
   ]
  },
  {
   "cell_type": "code",
   "execution_count": null,
   "id": "993542ad-e695-4273-8b90-4dbc3f50acdd",
   "metadata": {},
   "outputs": [],
   "source": []
  },
  {
   "cell_type": "code",
   "execution_count": 71,
   "id": "802bb9a2-2e9e-4984-89f0-584b9f126c33",
   "metadata": {},
   "outputs": [
    {
     "data": {
      "image/png": "[encoded data removed]",
      "text/plain": [
       "<Figure size 640x480 with 1 Axes>"
      ]
     },
     "metadata": {},
     "output_type": "display_data"
    }
   ],
   "source": [
    "import matplotlib.pyplot as plt\n",
    "\n",
    "lii = [46, 11, 9, 20, 3, 15, 8, 63, 11, 9, 24, 3, 5, 45, 51, 2, 23, 9, 17, 1, 1, 37, 29, 6, 3, 9, 25, 5, 43]\n",
    "\n",
    "# This is a list of unique values appearing in the input list\n",
    "lii_unique = list(set(lii))\n",
    "\n",
    "# This is the corresponding count for each value\n",
    "counts = [lii.count(value) for value in lii_unique]\n",
    "\n",
    "barcontainer = plt.bar(range(len(lii_unique)),counts)\n",
    "\n",
    "# Some labels and formatting to look more like the example\n",
    "plt.bar_label(barcontainer,lii_unique, label_type='edge')\n",
    "plt.axis('off')\n",
    "plt.show()"
   ]
  },
  {
   "cell_type": "code",
   "execution_count": null,
   "id": "3d2f3c50-9086-492d-9d15-0f81f4a8052e",
   "metadata": {},
   "outputs": [],
   "source": []
  },
  {
   "cell_type": "code",
   "execution_count": 14,
   "id": "88169965-25e7-4c82-afb0-3c00f3bf00cd",
   "metadata": {},
   "outputs": [
    {
     "data": {
      "text/plain": [
       "tensor(11)"
      ]
     },
     "execution_count": 14,
     "metadata": {},
     "output_type": "execute_result"
    }
   ],
   "source": [
    "import torch\n",
    "sequence_lengths = torch.ne(torch.tensor([100,1,2,3,4,5,6,100,0,0,0,0,0,0]), torch.tensor([100])).sum(-1) - 1\n",
    "sequence_lengths"
   ]
  },
  {
   "cell_type": "code",
   "execution_count": null,
   "id": "5a67bb13-3151-43b1-a6b7-ae229c6be025",
   "metadata": {},
   "outputs": [],
   "source": [
    "#Refer: https://stackoverflow.com/questions/19184484/how-to-add-group-labels-for-bar-charts/39502106#39502106\n",
    "\n",
    "import pandas as pd\n",
    "import numpy as np\n",
    "from matplotlib import pyplot as plt\n",
    "from itertools import groupby\n",
    "\n",
    "def test_table():\n",
    "    _one = [61.18, 58.06, 60.56, 59.35, 67.91, 68.9, 68.35, 67.42, 69.26, 59.16, 68.95, 58.17]\n",
    "    _four = [69.94, 62.26, 64.79, 63.37, 76.80, 75.73, 75.74, 76.74, 68.66, 58.65, 68.49, 60.54]\n",
    "    _struct = [68.70,63.78,68.83, 66.08, 77.27, 77.25, 77.48, 76.70, 70.25, 61.94, 68.72, 62.08]\n",
    "    data_table = pd.DataFrame({'dataset':['ECtHR (A)']*4 + ['ECtHR (B)']*4 + ['SCOTUS']*4,\n",
    "                           'encoders':(['1 x Encoder']*2 + ['2 x Encoder']*2)*3,\n",
    "                           'split':['Val','Test','Val','Test','Val','Test','Val','Test','Val','Test','Val','Test'],\n",
    "                           \"l = 1, no generated structure labels\": _one,\n",
    "                           \"l = 4, no generated structure labels\": _four,\n",
    "                           \"l = 4, with generated structure labels\": _struct\n",
    "                           })\n",
    "    \n",
    "    \"\"\"\n",
    "    data_table = pd.DataFrame({'Room':['Room A']*4 + ['Room B']*4,\n",
    "                               'Shelf':(['Shelf 1']*2 + ['Shelf 2']*2)*2,\n",
    "                               'Staple':['Milk','Water','Sugar','Honey','Wheat','Corn','Chicken','Cow'],\n",
    "                               'Quantity':[10,20,5,6,4,7,2,1],\n",
    "                               'Ordered':np.random.randint(0,10,8)\n",
    "                               })\n",
    "    \"\"\"\n",
    "    return data_table\n",
    "\n",
    "def add_line(ax, xpos, ypos):\n",
    "    line = plt.Line2D([xpos, xpos], [ypos + .1, ypos],\n",
    "                      transform=ax.transAxes, color='black')\n",
    "    line.set_clip_on(False)\n",
    "    ax.add_line(line)\n",
    "\n",
    "def label_len(my_index,level):\n",
    "    labels = my_index.get_level_values(level)\n",
    "    return [(k, sum(1 for i in g)) for k,g in groupby(labels)]\n",
    "    \n",
    "def label_group_bar_table(ax, df):\n",
    "    ypos = -.1\n",
    "    scale = 1./df.index.size\n",
    "    for level in range(df.index.nlevels)[::-1]:\n",
    "        pos = 0\n",
    "        for label, rpos in label_len(df.index,level):\n",
    "            lxpos = (pos + .5 * rpos)*scale\n",
    "            ax.text(lxpos, ypos, label, ha='center', transform=ax.transAxes)\n",
    "            add_line(ax, pos*scale, ypos)\n",
    "            pos += rpos\n",
    "        add_line(ax, pos*scale , ypos)\n",
    "        ypos -= .1\n",
    "\n",
    "df = test_table().groupby(['dataset','encoders','split']).sum()\n",
    "fig = plt.figure()\n",
    "ax = fig.add_subplot(111)\n",
    "df.plot(kind='bar',ax=fig.gca(), figsize=(10,6), ylim=(50,100), ylabel = '$m-F1$', width = 0.5, grid = True)\n",
    "#Below 3 lines remove default labels\n",
    "labels = ['' for item in ax.get_xticklabels()]\n",
    "ax.set_xticklabels(labels)\n",
    "ax.set_xlabel('')\n",
    "label_group_bar_table(ax, df)\n",
    "fig.subplots_adjust(bottom=.1*df.index.nlevels)\n",
    "plt.savefig(for_ipynb_run+'LEGAL-P_E/SIGIR_experiments/impact_genertaedStructLabels_on_macro_f1_of_lexglue.png', dpi=600)\n",
    "plt.show()"
   ]
  },
  {
   "cell_type": "markdown",
   "id": "76f0c403-db24-4a79-8ea5-a759a7c9ceae",
   "metadata": {},
   "source": [
    "## Getting dataset stats for long documents from extracted embeds and embeds for finetuning."
   ]
  },
  {
   "cell_type": "code",
   "execution_count": 8,
   "id": "cf5def6a-6d51-4ea3-b5d0-621216e5a6ae",
   "metadata": {
    "tags": []
   },
   "outputs": [
    {
     "name": "stdout",
     "output_type": "stream",
     "text": [
      "307\n",
      "307\n"
     ]
    }
   ],
   "source": [
    "import numpy as np\n",
    "import pandas as pd\n",
    "import math\n",
    "\"\"\"\n",
    "def get_only_large_documents_ft_data(number_of_chunks, indexes, input_ids, attention_masks, labels):\n",
    "    indexes_ , input_ids_, attention_masks_, labels_ = [],[],[],[]\n",
    "    for i, (index, input_id, att_mask, label) in enumerate(zip(indexes, input_ids, attention_masks, labels)):\n",
    "        if index >= number_of_chunks:\n",
    "            indexes_.append(index)\n",
    "            input_ids_.append(input_id) \n",
    "            attention_masks_.append(att_mask)\n",
    "            labels_.append(label)\n",
    "    #indexes_ = np.asarray(indexes_)#, dtype=object)\n",
    "    #input_ids_ = np.asarray(input_ids_)#, dtype=object)\n",
    "    #attention_masks_ = np.asarray(attention_masks_)#, dtype=object)\n",
    "    #labels_ = np.asarray(labels_)#, dtype=object)\n",
    "    return indexes_ , input_ids_, attention_masks_, labels_\n",
    "\"\"\"\n",
    "def get_only_large_documents_ft_data(\n",
    "    number_of_chunks,\n",
    "    indexes,\n",
    "    input_ids,\n",
    "    attention_masks,\n",
    "    labels,\n",
    "    chunk_number:int=None\n",
    "    ):\n",
    "    \"\"\"\n",
    "    chunk_number = {1, ... the last chunk}.\n",
    "    So for slicing chunk_number-1 will be used.\n",
    "    \"\"\"\n",
    "    if chunk_number == None:\n",
    "        # Take the last chunk\n",
    "        chunk_number = number_of_chunks-1\n",
    "    indexes_ , input_ids_, attention_masks_, labels_ = [],[],[],[]\n",
    "    for i, (index, input_id, att_mask, label) in enumerate(zip(indexes, input_ids, attention_masks, labels)):\n",
    "        if index >= number_of_chunks:\n",
    "            indexes_.append(index)\n",
    "            input_ids_.append(input_id[chunk_number-1]) \n",
    "            attention_masks_.append(att_mask[chunk_number-1])\n",
    "            labels_.append(label)\n",
    "    #indexes_ = np.asarray(indexes_)#, dtype=object)\n",
    "    #input_ids_ = np.asarray(input_ids_)#, dtype=object)\n",
    "    #attention_masks_ = np.asarray(attention_masks_)#, dtype=object)\n",
    "    #labels_ = np.asarray(labels_)#, dtype=object)\n",
    "    return indexes_ , input_ids_, attention_masks_, labels_\n",
    "\n",
    "def get_only_large_documents_extracted_embeds(\n",
    "    number_of_chunks:int=None,\n",
    "    indexes:int=None,\n",
    "    embeddings=None,\n",
    "    labels=None,\n",
    "    eq_no_of_chunks_from_ft:int=None,\n",
    "    eq_chunk_len:int=None,\n",
    "    overlaps:int=100,\n",
    "    current_chunk_len:int=512\n",
    "):\n",
    "    if eq_no_of_chunks_from_ft is not None and eq_chunk_len is not None:\n",
    "        number_of_chunks = math.ceil((eq_no_of_chunks_from_ft*(eq_chunk_len-overlaps))/(current_chunk_len-overlaps)-4)\n",
    "    elif number_of_chunks is None:\n",
    "        print(\"Returning all documents. As no 'number of chunks' is given.\")\n",
    "        return indexes , embeddings, labels\n",
    "    \n",
    "    indexes_ , embeddings_, labels_ = [],[],[]\n",
    "    for i, (index, embeds, label) in enumerate(zip(indexes, embeddings, labels)):\n",
    "        if index>=number_of_chunks-1:\n",
    "            indexes_.append(index)\n",
    "            embeddings_.append(embeds)\n",
    "            labels_.append(label)\n",
    "    indexes_ = np.asarray(indexes_, dtype=object)\n",
    "    embeddings_ = np.asarray(embeddings_, dtype=object)\n",
    "    labels_ = np.asarray(labels_, dtype=object).astype('int32')\n",
    "    return indexes_ , embeddings_, labels_\n",
    "\n",
    "for_ipynb_run = \"/gpfsdswork/projects/rech/btm/uei84ht/\"\n",
    "data_path_embeds = for_ipynb_run+\"LEGAL-P_E/SIGIR_experiments/finetuned_models/scotus/Extracted_data/from_2048input_ft_model/2048_input_len_100_overlap/J6b/\"\n",
    "data_path_ft = for_ipynb_run+\"LEGAL-P_E/SIGIR_experiments/finetuned_models/scotus/EleutherAI_gpt-j-6B/Strategy_0/Training_data/chunks_with_100_overlap_and_2048_input-length_zero_pad/\"\n",
    "number_of_chunks = 10\n",
    "chunk_number = 1\n",
    "testing_data_=\"cumulative\"\n",
    "data_split=\"test\"\n",
    "eq_no_of_chunks_from_ft=None#number_of_chunks\n",
    "eq_chunk_len=2048\n",
    "\n",
    "indexes_embed = np.load(data_path_embeds+data_split+\"_indexes_.npy\", allow_pickle = True)\n",
    "inputs_embed = np.load(data_path_embeds+data_split+\"_.npy\", allow_pickle = True)\n",
    "labels_embed = np.load(data_path_embeds+data_split+\"_labels_.npy\", allow_pickle = True).astype('int32')\n",
    "\n",
    "indexes_ft = np.load(data_path_ft+data_split+\"_indexes_\"+testing_data_+\".npy\", allow_pickle = True)\n",
    "inputs_ft = np.load(data_path_ft+data_split+'_input_ids_'+testing_data_+'.npy',allow_pickle=True)\n",
    "masks_ft = np.load(data_path_ft+data_split+'_attention_masks_'+testing_data_+'.npy',allow_pickle=True)\n",
    "labels_ft = np.load(data_path_ft+data_split+'_labels_'+testing_data_+'.npy',allow_pickle=True)\n",
    "\n",
    "index_ft, input_ids_ft, att_mask_ft, labels_ft = get_only_large_documents_ft_data(\n",
    "    number_of_chunks,\n",
    "    indexes_ft,\n",
    "    inputs_ft,\n",
    "    masks_ft,\n",
    "    labels_ft,\n",
    "    chunk_number\n",
    ")\n",
    "\n",
    "index_embed, embeds, labels_embed = get_only_large_documents_extracted_embeds(\n",
    "    number_of_chunks=number_of_chunks,\n",
    "    indexes=indexes_embed,\n",
    "    embeddings=inputs_embed,\n",
    "    labels=labels_embed,\n",
    "    eq_no_of_chunks_from_ft=eq_no_of_chunks_from_ft,\n",
    "    eq_chunk_len=eq_chunk_len\n",
    ")\n",
    "\n",
    "print(len(labels_ft))\n",
    "print(len(labels_embed))"
   ]
  },
  {
   "cell_type": "markdown",
   "id": "a9f92b94-5c2d-492c-9f08-28027e0eb628",
   "metadata": {},
   "source": [
    "## Plotting chunk-number vs prediction score for fine-tuned model (GPT-J 6B) in SCOTUS"
   ]
  },
  {
   "cell_type": "code",
   "execution_count": 1,
   "id": "78c038c4-bf03-4da9-a307-3a477d6bc91d",
   "metadata": {},
   "outputs": [],
   "source": [
    "import pandas as pd\n",
    "import seaborn as sns\n",
    "from matplotlib import pyplot as plt\n",
    "from pylab import *\n",
    "sns.set()"
   ]
  },
  {
   "cell_type": "code",
   "execution_count": 3,
   "id": "69738430-b1df-4ccf-bdd5-e4cb1dc198ea",
   "metadata": {
    "tags": []
   },
   "outputs": [],
   "source": [
    "matplotlib.use(\"pgf\")\n",
    "matplotlib.rcParams.update({\n",
    "    \"pgf.texsystem\": \"pdflatex\",\n",
    "    'font.family': 'serif',\n",
    "    'text.usetex': True,\n",
    "    'pgf.rcfonts': False,\n",
    "})"
   ]
  },
  {
   "cell_type": "code",
   "execution_count": 32,
   "id": "f4e9b175-51c2-44cf-af5a-101bc8105f1e",
   "metadata": {
    "tags": []
   },
   "outputs": [
    {
     "ename": "NameError",
     "evalue": "name 'pokemon' is not defined",
     "output_type": "error",
     "traceback": [
      "\u001b[0;31m---------------------------------------------------------------------------\u001b[0m",
      "\u001b[0;31mNameError\u001b[0m                                 Traceback (most recent call last)",
      "Cell \u001b[0;32mIn[32], line 4\u001b[0m\n\u001b[1;32m      1\u001b[0m fig, axes \u001b[38;5;241m=\u001b[39m plt\u001b[38;5;241m.\u001b[39msubplots(\u001b[38;5;241m2\u001b[39m, \u001b[38;5;241m2\u001b[39m, sharey\u001b[38;5;241m=\u001b[39m\u001b[38;5;28;01mTrue\u001b[39;00m, figsize\u001b[38;5;241m=\u001b[39m(\u001b[38;5;241m10\u001b[39m,\u001b[38;5;241m5\u001b[39m))\n\u001b[1;32m      2\u001b[0m \u001b[38;5;66;03m#fig.suptitle('Bigger 1 row x 2 columns axes with no data')\u001b[39;00m\n\u001b[1;32m      3\u001b[0m \u001b[38;5;66;03m#axes[0,0].set_title('Minimum 4 chunks')\u001b[39;00m\n\u001b[0;32m----> 4\u001b[0m sns\u001b[38;5;241m.\u001b[39mboxplot(ax\u001b[38;5;241m=\u001b[39maxes[\u001b[38;5;241m0\u001b[39m, \u001b[38;5;241m0\u001b[39m], data\u001b[38;5;241m=\u001b[39m\u001b[43mpokemon\u001b[49m, x\u001b[38;5;241m=\u001b[39m\u001b[38;5;124m'\u001b[39m\u001b[38;5;124m4 chunks or more\u001b[39m\u001b[38;5;124m'\u001b[39m, y\u001b[38;5;241m=\u001b[39m\u001b[38;5;124m'\u001b[39m\u001b[38;5;124mF1-score\u001b[39m\u001b[38;5;124m'\u001b[39m)\n\u001b[1;32m      5\u001b[0m sns\u001b[38;5;241m.\u001b[39mboxplot(ax\u001b[38;5;241m=\u001b[39maxes[\u001b[38;5;241m0\u001b[39m, \u001b[38;5;241m1\u001b[39m], data\u001b[38;5;241m=\u001b[39mpokemon, x\u001b[38;5;241m=\u001b[39m\u001b[38;5;124m'\u001b[39m\u001b[38;5;124m6 chunks or more\u001b[39m\u001b[38;5;124m'\u001b[39m, y\u001b[38;5;241m=\u001b[39m\u001b[38;5;124m'\u001b[39m\u001b[38;5;124mF1-score\u001b[39m\u001b[38;5;124m'\u001b[39m)\n\u001b[1;32m      6\u001b[0m sns\u001b[38;5;241m.\u001b[39mboxplot(ax\u001b[38;5;241m=\u001b[39maxes[\u001b[38;5;241m1\u001b[39m, \u001b[38;5;241m0\u001b[39m], data\u001b[38;5;241m=\u001b[39mpokemon, x\u001b[38;5;241m=\u001b[39m\u001b[38;5;124m'\u001b[39m\u001b[38;5;124m8 chunks or more\u001b[39m\u001b[38;5;124m'\u001b[39m, y\u001b[38;5;241m=\u001b[39m\u001b[38;5;124m'\u001b[39m\u001b[38;5;124mF1-score\u001b[39m\u001b[38;5;124m'\u001b[39m)\n",
      "\u001b[0;31mNameError\u001b[0m: name 'pokemon' is not defined"
     ]
    },
    {
     "data": {
      "image/png": "[encoded data removed]",
      "text/plain": [
       "<Figure size 1000x500 with 4 Axes>"
      ]
     },
     "metadata": {},
     "output_type": "display_data"
    }
   ],
   "source": [
    "\"\"\"\n",
    "fig, axes = plt.subplots(2, 2, sharey=True, figsize=(10,5))\n",
    "#fig.suptitle('Bigger 1 row x 2 columns axes with no data')\n",
    "#axes[0,0].set_title('Minimum 4 chunks')\n",
    "sns.boxplot(ax=axes[0, 0], data=pokemon, x='4 chunks or more', y='F1-score')\n",
    "sns.boxplot(ax=axes[0, 1], data=pokemon, x='6 chunks or more', y='F1-score')\n",
    "sns.boxplot(ax=axes[1, 0], data=pokemon, x='8 chunks or more', y='F1-score')\n",
    "sns.boxplot(ax=axes[1, 1], data=pokemon, x='10 chunks or more', y='F1-score')\n",
    "\"\"\""
   ]
  },
  {
   "cell_type": "code",
   "execution_count": 35,
   "id": "b4111d8a-b143-4169-b830-05bf31764fa3",
   "metadata": {
    "tags": []
   },
   "outputs": [],
   "source": [
    "\"\"\"import matplotlib.pyplot as plt\n",
    "import numpy as np\n",
    "\n",
    "# Create some fake data.\n",
    "x1 = np.linspace(0.0, 5.0)\n",
    "y1 = np.cos(2 * np.pi * x1) * np.exp(-x1)\n",
    "x2 = np.linspace(0.0, 2.0)\n",
    "y2 = np.cos(2 * np.pi * x2)\"\"\""
   ]
  },
  {
   "cell_type": "code",
   "execution_count": 70,
   "id": "e820b217-f40d-4322-ad57-5cf9ba2378a1",
   "metadata": {
    "tags": []
   },
   "outputs": [
    {
     "data": {
      "image/png": "[encoded data removed]",
      "text/plain": [
       "<Figure size 640x480 with 4 Axes>"
      ]
     },
     "metadata": {},
     "output_type": "display_data"
    }
   ],
   "source": [
    "\"\"\"fig, ((ax1, ax2), (ax3, ax4)) = plt.subplots(2, 2)\n",
    "#fig.suptitle('A tale of 2 subplots')\n",
    "\n",
    "ax1.plot(x1, y1, 'o-')\n",
    "ax1.set_ylabel('Damped oscillation')\n",
    "\n",
    "ax2.plot(x2, y2, '.-')\n",
    "ax3.set_xlabel('time (s)')\n",
    "#ax2.set_ylabel('Undamped')\n",
    "ax3.set_ylim(0.6, 1)\n",
    "plt.show() \"\"\""
   ]
  },
  {
   "cell_type": "code",
   "execution_count": 15,
   "id": "0830ec87-6da4-4676-aa0c-8d5a2095d8c4",
   "metadata": {
    "tags": []
   },
   "outputs": [],
   "source": [
    "min_4_chunks = {\n",
    "    'GPT-J(Test)':{'1':74.144,'2':79.088,'3':78.802,'4':78.707},\n",
    "    'GPT-J(Val.)':{'1':77.649,'2':83.615,'3':81.567,'4':80.854},\n",
    "    'MESc(Test)':{'1':79.256,'2':79.256,'3':79.256,'4':79.256},\n",
    "    'MESc(Val.)':{'1':82.442,'2':82.442,'3':82.442,'4':82.442}\n",
    "    }\n",
    "\n",
    "min_6_chunks = {\n",
    "    'GPT-J(Test)':{'1':73.655,'2':78.896,'3':78.345,'4':78.206,'5': 77.931,'6':77.517},\n",
    "    'GPT-J(Val.)':{'1':77.873,'2':84.054,'3':81.953,'4':81.829,'5': 82.941,'6':81.953},\n",
    "    'MESc(Test)':{'1':79.721,'2':79.721,'3':79.721,'4':79.721,'5':79.721 ,'6':79.721},\n",
    "    'MESc(Val.)':{'1':82.806,'2':82.806,'3':82.806,'4':82.806,'5':82.806 ,'6':82.806}\n",
    "    }\n",
    "\n",
    "min_8_chunks = {\n",
    "    'GPT-J(Test)':{'1':71.304,'2':77.173,'3':76.304,'4':75.869,'5':75.869 ,'6':76.521,'7':75.652 ,'8':75},\n",
    "    'GPT-J(Val.)':{'1':78.613,'2':83.564,'3':81.98,'4':81.584,'5':83.168 ,'6':80.792,'7':81.188 ,'8':82.376},\n",
    "    'MESc(Test)':{'1':76.939,'2':76.939,'3':76.939,'4':76.939,'5':76.939 ,'6':76.939,'7':76.939 ,'8':76.939},\n",
    "    'MESc(Val.)':{'1':82.189,'2':82.189,'3':82.189,'4':82.189,'5':82.189 ,'6':82.189,'7':82.189 ,'8':82.189}\n",
    "    }\n",
    "\n",
    "min_10_chunks = {\n",
    "    'GPT-J(Test)':{'1':72.964,'2':78.501,'3':79.153,'4':76.872,'5':76.547 ,'6':78.175,'7':77.85 ,'8':76.547,'9':77.198 ,'10':75.57},\n",
    "    'GPT-J(Val.)':{'1':79.754,'2':84.969,'3':82.515,'4':81.901,'5':83.435 ,'6':81.901,'7':81.288 ,'8':81.901,'9':78.834 ,'10':78.834},\n",
    "    'MESc(Test)':{'1':78.688,'2':78.688,'3':78.688,'4':78.688,'5':78.688 ,'6':78.688,'7':78.688 ,'8':78.688,'9':78.688 ,'10':78.688},\n",
    "    'MESc(Val.)':{'1':82.534,'2':82.534,'3':82.534,'4':82.534,'5':82.534 ,'6':82.534,'7':82.534 ,'8':82.534,'9':82.534 ,'10':82.534}\n",
    "    }\n",
    "#pd.DataFrame(min_4_chunks).plot(kind='line')\n",
    "#plt.show()\n"
   ]
  },
  {
   "cell_type": "code",
   "execution_count": 16,
   "id": "ec9d671b-b5c8-4fdb-83e2-fce4efe3e6cb",
   "metadata": {
    "tags": []
   },
   "outputs": [],
   "source": [
    "fig, ((ax1, ax2), (ax3, ax4)) = plt.subplots(2, 2, figsize=(12,8)) #sharey=True,\n",
    "plt.subplots_adjust(wspace=0.1, hspace=0.15)\n",
    "ax1.set(ylabel='\\u03bc-F1 (%)') #xlabel='4 chunks or more', \n",
    "colors_1 = list(\"rgcb\")\n",
    "colors_2 = list(\"rgcb\")\n",
    "for key, data_dict in min_4_chunks.items():\n",
    "    x = data_dict.keys()\n",
    "    y = data_dict.values()\n",
    "    #ax1.set_xlabel('4 chunks or more')\n",
    "    if key in ['MESc(Test)','MESc(Val.)']:\n",
    "        ax1.plot(x,y,'--D',color=colors_1.pop())\n",
    "    else:\n",
    "        ax1.plot(x,y,'-o',color=colors_2.pop())\n",
    "    ax1.legend(min_4_chunks.keys(), ncol=2, loc='best',prop={'size': 9}, title='$\\geq$4 chunks (1052 documents)', title_fontsize = 9.5)\n",
    "    \n",
    "#ax2.set(ylabel='\\u03bc-F1 (%)') #xlabel='6 chunks or more', \n",
    "colors_1 = list(\"rgcb\")\n",
    "colors_2 = list(\"rgcb\")\n",
    "for key, data_dict in min_6_chunks.items():\n",
    "    x = data_dict.keys()\n",
    "    y = data_dict.values()\n",
    "    #ax1.set_xlabel('4 chunks or more')\n",
    "    if key in ['MESc(Test)','MESc(Val.)']:\n",
    "        ax2.plot(x,y,'--D',color=colors_1.pop())\n",
    "    else:\n",
    "        ax2.plot(x,y,'-o',color=colors_2.pop())\n",
    "    ax2.legend(min_6_chunks.keys(), ncol=2, loc='best',prop={'size': 9}, title='$\\geq$6 chunks (725 documents)', title_fontsize = 9.5)\n",
    "    \n",
    "ax3.set(ylabel='\\u03bc-F1 (%)') #xlabel='8 chunks or more', \n",
    "#ax3.set_title(label='8 chunks or more')\n",
    "colors_1 = list(\"rgcb\")\n",
    "colors_2 = list(\"rgcb\")\n",
    "for key, data_dict in min_8_chunks.items():\n",
    "    x = data_dict.keys()\n",
    "    y = data_dict.values()\n",
    "    #ax1.set_xlabel('4 chunks or more')\n",
    "    if key in ['MESc(Test)','MESc(Val.)']:\n",
    "        ax3.plot(x,y,'--D',color=colors_1.pop())\n",
    "    else:\n",
    "        ax3.plot(x,y,'-o',color=colors_2.pop())\n",
    "    ax3.legend(min_8_chunks.keys(), ncol=2, loc='best',prop={'size': 9}, title='$\\geq$8 chunks (460 documents)', title_fontsize = 9.5)\n",
    "    \n",
    "#ax4.set(ylabel='\\u03bc-F1 (%)') #xlabel='10 chunks or more', \n",
    "colors_1 = list(\"rgcb\") #myk\n",
    "colors_2 = list(\"rgcb\")\n",
    "for key, data_dict in min_10_chunks.items():\n",
    "    x = data_dict.keys()\n",
    "    y = data_dict.values()\n",
    "    #ax1.set_xlabel('4 chunks or more')\n",
    "    if key in ['MESc(Test)','MESc(Val.)']:\n",
    "        ax4.plot(x,y,'--D',color=colors_1.pop())\n",
    "    else:\n",
    "        ax4.plot(x,y,'-o',color=colors_2.pop())\n",
    "    ax4.legend(min_10_chunks.keys(), ncol=2, loc='best',prop={'size': 9}, title='$\\geq$10 chunks (307 documents)', title_fontsize = 9.5)\n",
    "#plt.savefig(for_ipynb_run+\"chunk_number_vs_prediction_score_for_fine_tuned_model_GPT-J 6B_in_SCOTUS.pdf\", format=\"pdf\", bbox_inches=\"tight\", dpi=1000, pad_inches=0)"
   ]
  },
  {
   "cell_type": "code",
   "execution_count": 76,
   "id": "ba1708c4-7d2e-499d-8841-7f844f80d8b1",
   "metadata": {
    "tags": []
   },
   "outputs": [
    {
     "name": "stdout",
     "output_type": "stream",
     "text": [
      "Line2D(_child3)\n"
     ]
    },
    {
     "ename": "IndexError",
     "evalue": "pop from empty list",
     "output_type": "error",
     "traceback": [
      "\u001b[0;31m---------------------------------------------------------------------------\u001b[0m",
      "\u001b[0;31mIndexError\u001b[0m                                Traceback (most recent call last)",
      "Cell \u001b[0;32mIn[76], line 31\u001b[0m\n\u001b[1;32m     29\u001b[0m     x \u001b[38;5;241m=\u001b[39m data_dict\u001b[38;5;241m.\u001b[39mkeys()\n\u001b[1;32m     30\u001b[0m     y \u001b[38;5;241m=\u001b[39m data_dict\u001b[38;5;241m.\u001b[39mvalues()\n\u001b[0;32m---> 31\u001b[0m     ax2\u001b[38;5;241m.\u001b[39mscatter(x,y,color\u001b[38;5;241m=\u001b[39m\u001b[43mcolors\u001b[49m\u001b[38;5;241;43m.\u001b[39;49m\u001b[43mpop\u001b[49m\u001b[43m(\u001b[49m\u001b[43m)\u001b[49m)\n\u001b[1;32m     33\u001b[0m     ax2\u001b[38;5;241m.\u001b[39mlegend(min_4_chunks\u001b[38;5;241m.\u001b[39mkeys())\n\u001b[1;32m     35\u001b[0m plt\u001b[38;5;241m.\u001b[39mshow()\n",
      "\u001b[0;31mIndexError\u001b[0m: pop from empty list"
     ]
    },
    {
     "data": {
      "image/png": "[encoded data removed]",
      "text/plain": [
       "<Figure size 1000x800 with 4 Axes>"
      ]
     },
     "metadata": {},
     "output_type": "display_data"
    }
   ],
   "source": [
    "fig, ((ax1, ax2), (ax3, ax4)) = plt.subplots(2, 2, figsize=(10,8)) #sharey=True,\n",
    "\n",
    "ax1.set(xlabel='4 chunks or more', ylabel='micro-F1')\n",
    "colors = list(\"rgbcmyk\")\n",
    "for data_dict in min_4_chunks.values():\n",
    "    x = data_dict.keys()\n",
    "    y = data_dict.values()\n",
    "    #ax1.set_xlabel('4 chunks or more')\n",
    "    ax1_plot_1, = ax1.plot(x,y,'-D',color=colors.pop())\n",
    "    ax1.legend(min_4_chunks.keys(), loc='best',prop={'size': 9})\n",
    "\"\"\"colors = list(\"rgbcmyk\")\n",
    "for data_dict in MESc_min_4_chunks.values():\n",
    "    x = data_dict.keys()\n",
    "    y = data_dict.values()\n",
    "    #ax1.set_xlabel('4 chunks or more')\n",
    "    ax1_plot_2, = ax1.plot(x,y,'-o',color=colors.pop())\n",
    "\"\"\"    \n",
    "#l1, = ax1.plot([0,3], [83.1,83.1],linestyle='dotted', label=\"MESc(Test)\",color=colors.pop())\n",
    "#l2, = ax1.plot([0,3], [82.1,82.1],linestyle='dotted', label=\"MESc(Val.)\",color=colors.pop())\n",
    "print(ax1_plot_1)\n",
    "ax1_legend_0 = ax1.legend([ax1_plot_1],min_4_chunks.keys(), loc='best',prop={'size': 9})\n",
    "ax1_legend_1 = ax1.legend([ax1_plot_2],MESc_min_4_chunks.keys(), loc='lower center',prop={'size': 9})\n",
    "#ax1_legend_1 = ax1.legend(handles = [l1,l2], loc='lower center', prop={'size': 9})\n",
    "ax1.add_artist(ax1_legend_0)\n",
    "ax1.add_artist(ax1_legend_1)\n",
    "\n",
    "\n",
    "for data_dict in min_4_chunks.values():\n",
    "    x = data_dict.keys()\n",
    "    y = data_dict.values()\n",
    "    ax2.scatter(x,y,color=colors.pop())\n",
    "\n",
    "    ax2.legend(min_4_chunks.keys())\n",
    "\n",
    "plt.show()"
   ]
  },
  {
   "cell_type": "code",
   "execution_count": 59,
   "id": "040b4fe5-8152-411e-86e5-1714ef2551aa",
   "metadata": {
    "tags": []
   },
   "outputs": [
    {
     "ename": "TypeError",
     "evalue": "PlotAccessor.scatter() missing 2 required positional arguments: 'x' and 'y'",
     "output_type": "error",
     "traceback": [
      "\u001b[0;31m---------------------------------------------------------------------------\u001b[0m",
      "\u001b[0;31mTypeError\u001b[0m                                 Traceback (most recent call last)",
      "Cell \u001b[0;32mIn[59], line 7\u001b[0m\n\u001b[1;32m      1\u001b[0m df \u001b[38;5;241m=\u001b[39m pd\u001b[38;5;241m.\u001b[39mDataFrame({\u001b[38;5;124m'\u001b[39m\u001b[38;5;124mlength\u001b[39m\u001b[38;5;124m'\u001b[39m: [\u001b[38;5;241m1.5\u001b[39m, \u001b[38;5;241m0.5\u001b[39m, \u001b[38;5;241m1.2\u001b[39m, \u001b[38;5;241m0.9\u001b[39m, \u001b[38;5;241m3\u001b[39m],\n\u001b[1;32m      2\u001b[0m \n\u001b[1;32m      3\u001b[0m                   \u001b[38;5;124m'\u001b[39m\u001b[38;5;124mwidth\u001b[39m\u001b[38;5;124m'\u001b[39m: [\u001b[38;5;241m0.7\u001b[39m, \u001b[38;5;241m0.2\u001b[39m, \u001b[38;5;241m0.15\u001b[39m, \u001b[38;5;241m0.2\u001b[39m, \u001b[38;5;241m1.1\u001b[39m]},\n\u001b[1;32m      4\u001b[0m \n\u001b[1;32m      5\u001b[0m                   index\u001b[38;5;241m=\u001b[39m[\u001b[38;5;124m'\u001b[39m\u001b[38;5;124mpig\u001b[39m\u001b[38;5;124m'\u001b[39m, \u001b[38;5;124m'\u001b[39m\u001b[38;5;124mrabbit\u001b[39m\u001b[38;5;124m'\u001b[39m, \u001b[38;5;124m'\u001b[39m\u001b[38;5;124mduck\u001b[39m\u001b[38;5;124m'\u001b[39m, \u001b[38;5;124m'\u001b[39m\u001b[38;5;124mchicken\u001b[39m\u001b[38;5;124m'\u001b[39m, \u001b[38;5;124m'\u001b[39m\u001b[38;5;124mhorse\u001b[39m\u001b[38;5;124m'\u001b[39m])\n\u001b[0;32m----> 7\u001b[0m plot \u001b[38;5;241m=\u001b[39m \u001b[43mdf\u001b[49m\u001b[38;5;241;43m.\u001b[39;49m\u001b[43mplot\u001b[49m\u001b[38;5;241;43m.\u001b[39;49m\u001b[43mscatter\u001b[49m\u001b[43m(\u001b[49m\u001b[43mkind\u001b[49m\u001b[38;5;241;43m=\u001b[39;49m\u001b[38;5;124;43m'\u001b[39;49m\u001b[38;5;124;43mscatter\u001b[39;49m\u001b[38;5;124;43m'\u001b[39;49m\u001b[43m,\u001b[49m\u001b[43mtitle\u001b[49m\u001b[38;5;241;43m=\u001b[39;49m\u001b[38;5;124;43m\"\u001b[39;49m\u001b[38;5;124;43mDataFrame Plot\u001b[39;49m\u001b[38;5;124;43m\"\u001b[39;49m\u001b[43m)\u001b[49m\n",
      "\u001b[0;31mTypeError\u001b[0m: PlotAccessor.scatter() missing 2 required positional arguments: 'x' and 'y'"
     ]
    }
   ],
   "source": [
    "df = pd.DataFrame({'length': [1.5, 0.5, 1.2, 0.9, 3],\n",
    "\n",
    "                  'width': [0.7, 0.2, 0.15, 0.2, 1.1]},\n",
    "\n",
    "                  index=['pig', 'rabbit', 'duck', 'chicken', 'horse'])\n",
    "\n",
    "plot = df.plot.scatter(kind='scatter',title=\"DataFrame Plot\")"
   ]
  },
  {
   "cell_type": "code",
   "execution_count": null,
   "id": "c9cdf528-acb7-4046-8513-eea3e3e36686",
   "metadata": {},
   "outputs": [],
   "source": []
  }
 ],
 "metadata": {
  "kernelspec": {
   "display_name": "pytorch-gpu-2.0.1_py3.10.12",
   "language": "python",
   "name": "module-conda-env-pytorch-gpu-2.0.1_py3.10.12"
  },
  "language_info": {
   "codemirror_mode": {
    "name": "ipython",
    "version": 3
   },
   "file_extension": ".py",
   "mimetype": "text/x-python",
   "name": "python",
   "nbconvert_exporter": "python",
   "pygments_lexer": "ipython3",
   "version": "3.10.12"
  }
 },
 "nbformat": 4,
 "nbformat_minor": 5
}
